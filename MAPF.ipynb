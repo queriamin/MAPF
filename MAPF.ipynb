{
 "cells": [
  {
   "cell_type": "markdown",
   "metadata": {},
   "source": [
    "## MAPF"
   ]
  },
  {
   "cell_type": "code",
   "execution_count": 1,
   "metadata": {},
   "outputs": [],
   "source": [
    "import os\n",
    "import numpy as np\n",
    "from crewai import Agent, Task, Crew\n",
    "\n",
    "os.environ[\"OPENAI_API_KEY\"] = \"\""
   ]
  },
  {
   "cell_type": "code",
   "execution_count": 2,
   "metadata": {},
   "outputs": [],
   "source": [
    "from environment import Environment\n",
    "import configs\n",
    "import pickle\n",
    "\n",
    "with open('./test_set/{}length_{}agents_{}density.pth'.format(40, 4, 0.3), 'rb') as f:\n",
    "    tests = pickle.load(f)\n",
    "\n",
    "directiondict = {\n",
    "    'Stay': 0, 'North': 1, 'South': 2, 'West': 3, 'East': 4, 'Stay.': 0, 'North.': 1, 'South.': 2, 'West.': 3, 'East.': 4 \n",
    "}\n",
    "\n",
    "num_agents = 4"
   ]
  },
  {
   "cell_type": "code",
   "execution_count": 3,
   "metadata": {},
   "outputs": [
    {
     "data": {
      "image/png": "[encoded data removed]",
      "text/plain": [
       "<Figure size 640x480 with 1 Axes>"
      ]
     },
     "metadata": {},
     "output_type": "display_data"
    }
   ],
   "source": [
    "env = Environment()\n",
    "env.load(tests[0][0], tests[0][1], tests[0][2])\n",
    "env.render()"
   ]
  },
  {
   "cell_type": "code",
   "execution_count": 4,
   "metadata": {},
   "outputs": [],
   "source": [
    "class PathFindingAgents():\n",
    "\tdef path_finder(self):\n",
    "\t\treturn Agent(\n",
    "\t\t\trole='Path finder',\n",
    "\t\t\tgoal='Start at the start point and reach the end point without crashing into a wall.',\n",
    "\t\t\tbackstory=\"\"\"You are a veteran adventurer with a great sense of direction.\n",
    "\t\t\tYou understand which direction you need to move to get from where you are to where you want to go.\n",
    "\t\t\t\"\"\",\n",
    "\t\t\tverbose=True\n",
    "\t\t)\n",
    "\t\n",
    "class PathFindingTasks():\n",
    "\tdef path_finding(self, agent, x, y, x_finish, y_finish, east, west, north, south, last_action):\n",
    "\t\treturn Task(\n",
    "  \tdescription=(f\"\"\"\n",
    "    Your current coordinates are ({x},{y}) and your destination is ({x_finish},{y_finish}).\n",
    "    East and west in the coordinates correspond to the x axis.\n",
    "    South and north in the coordinated correspond to the y axis.\n",
    "    You can only move east, west, south and north.\n",
    "    You can only make one move at a time.\n",
    "    {east}\n",
    "    {west}\n",
    "    {south}\n",
    "    {north}\n",
    "    Which direction do you move next?\n",
    "    {last_action}\n",
    "    Answer in one word only: {{DIRECTION}}\n",
    "    \"\"\"),\n",
    "    expected_output='Direction',\n",
    "    agent=agent\n",
    "    )"
   ]
  },
  {
   "cell_type": "code",
   "execution_count": 5,
   "metadata": {},
   "outputs": [
    {
     "name": "stdout",
     "output_type": "stream",
     "text": [
      "\n",
      "\n",
      "\u001b[1m> Entering new CrewAgentExecutor chain...\u001b[0m\n"
     ]
    },
    {
     "name": "stderr",
     "output_type": "stream",
     "text": [
      "2024-05-28 12:40:28,471 - 24920 - __init__.py-__init__:518 - WARNING: Overriding of current TracerProvider is not allowed\n"
     ]
    },
    {
     "name": "stdout",
     "output_type": "stream",
     "text": [
      "\u001b[32;1m\u001b[1;3mBased on my current position and the destination, I need to move along the x-axis to reach the end point. However, the path to the east is blocked by a wall. Hence, the only direction I can proceed along the x-axis is west. \n",
      "\n",
      "Final Answer: West\u001b[0m\n",
      "\n",
      "\u001b[1m> Finished chain.\u001b[0m\n",
      "\n",
      "\n",
      "\u001b[1m> Entering new CrewAgentExecutor chain...\u001b[0m\n"
     ]
    },
    {
     "name": "stderr",
     "output_type": "stream",
     "text": [
      "2024-05-28 12:40:31,946 - 24920 - __init__.py-__init__:518 - WARNING: Overriding of current TracerProvider is not allowed\n"
     ]
    },
    {
     "name": "stdout",
     "output_type": "stream",
     "text": [
      "\u001b[32;1m\u001b[1;3mThe current location is (31,9) and the destination is (20,12). The destination lies west and a little north of the current location. Since moving north is not an option due to a wall, the next best alternative is to move west to get closer to the destination in terms of the x-coordinate.\n",
      "\n",
      "Final Answer: West\u001b[0m\n",
      "\n",
      "\u001b[1m> Finished chain.\u001b[0m\n",
      "\n",
      "\n",
      "\u001b[1m> Entering new CrewAgentExecutor chain...\u001b[0m\n"
     ]
    },
    {
     "name": "stderr",
     "output_type": "stream",
     "text": [
      "2024-05-28 12:40:36,960 - 24920 - __init__.py-__init__:518 - WARNING: Overriding of current TracerProvider is not allowed\n"
     ]
    },
    {
     "name": "stdout",
     "output_type": "stream",
     "text": [
      "\u001b[32;1m\u001b[1;3mConsidering my current coordinates (2,20) and my destination (5,15), I need to move towards the east to increase my x coordinate and towards the south to decrease my y coordinate. It seems the best direction to move next would be east or south. Given that there is a path available in all directions, I could choose either. However, to reach the destination as quickly as possible, I should prioritize moving east first to get closer on the x-axis.\n",
      "\n",
      "Final Answer: East.\u001b[0m\n",
      "\n",
      "\u001b[1m> Finished chain.\u001b[0m\n",
      "\n",
      "\n",
      "\u001b[1m> Entering new CrewAgentExecutor chain...\u001b[0m\n",
      "\u001b[32;1m\u001b[1;3mTo reach the destination from the current coordinates, I need to decrease my y coordinate and increase my x coordinate. Since I can only move east, west and north, and south is blocked by a wall, moving east will increase my x coordinate and moving north will increase my y coordinate. However, since I need to decrease my y coordinate, the best move appears to be to go east.\n",
      "\n",
      "Final Answer: East\u001b[0m\n",
      "\n",
      "\u001b[1m> Finished chain.\u001b[0m\n"
     ]
    },
    {
     "data": {
      "image/png": "[encoded data removed]",
      "text/plain": [
       "<Figure size 640x480 with 1 Axes>"
      ]
     },
     "metadata": {},
     "output_type": "display_data"
    },
    {
     "name": "stderr",
     "output_type": "stream",
     "text": [
      "2024-05-28 12:40:41,901 - 24920 - __init__.py-__init__:518 - WARNING: Overriding of current TracerProvider is not allowed\n"
     ]
    },
    {
     "name": "stdout",
     "output_type": "stream",
     "text": [
      "\n",
      "\n",
      "\u001b[1m> Entering new CrewAgentExecutor chain...\u001b[0m\n"
     ]
    },
    {
     "name": "stderr",
     "output_type": "stream",
     "text": [
      "2024-05-28 12:40:47,695 - 24920 - __init__.py-__init__:518 - WARNING: Overriding of current TracerProvider is not allowed\n"
     ]
    },
    {
     "name": "stdout",
     "output_type": "stream",
     "text": [
      "\u001b[32;1m\u001b[1;3mGiven my current coordinates (21,36) and the destination (12,36), it's clear that I need to move along the x-axis to reach the target. In this coordinate system, moving towards the lower numbers on the x-axis corresponds to going west. However, my west is blocked by a wall. Since I can't move west, and I came from the east, the best option would be to move either north or south to avoid the wall and then try to move west later. \n",
      "\n",
      "Final Answer: North\u001b[0m\n",
      "\n",
      "\u001b[1m> Finished chain.\u001b[0m\n",
      "\n",
      "\n",
      "\u001b[1m> Entering new CrewAgentExecutor chain...\u001b[0m\n"
     ]
    },
    {
     "name": "stderr",
     "output_type": "stream",
     "text": [
      "2024-05-28 12:40:53,515 - 24920 - __init__.py-__init__:518 - WARNING: Overriding of current TracerProvider is not allowed\n"
     ]
    },
    {
     "name": "stdout",
     "output_type": "stream",
     "text": [
      "\u001b[32;1m\u001b[1;3mConsidering my current coordinates are (30,9) and my target is (20,12), it would seem that I need to move west to reduce the x-coordinate and get closer to my destination. However, I also need to increase my y-coordinate to reach the destination. Unfortunately, moving north is not an option as it is blocked by a wall. Therefore, since I just came from the east, I will have to move west next.\n",
      "\n",
      "Final Answer: West\u001b[0m\n",
      "\n",
      "\u001b[1m> Finished chain.\u001b[0m\n",
      "\n",
      "\n",
      "\u001b[1m> Entering new CrewAgentExecutor chain...\u001b[0m\n"
     ]
    },
    {
     "name": "stderr",
     "output_type": "stream",
     "text": [
      "2024-05-28 12:40:59,900 - 24920 - __init__.py-__init__:518 - WARNING: Overriding of current TracerProvider is not allowed\n"
     ]
    },
    {
     "name": "stdout",
     "output_type": "stream",
     "text": [
      "\u001b[32;1m\u001b[1;3mGiven my current coordinates (3,20) and my destination coordinates (5,15), it's clear that I need to move both east and south to reach my destination. However, my east is blocked by a wall, which means I cannot move in that direction. I have just come from the west, and going back in the same direction would not bring me any closer to my destination. Thus, the only viable option left is to head south. \n",
      "\n",
      "Final Answer: South\u001b[0m\n",
      "\n",
      "\u001b[1m> Finished chain.\u001b[0m\n",
      "\n",
      "\n",
      "\u001b[1m> Entering new CrewAgentExecutor chain...\u001b[0m\n",
      "\u001b[32;1m\u001b[1;3mGiven my current coordinates (3,37), my destination coordinates (5,10), and the fact that I came from the west, I need to assess the best direction to move next to reach my destination. I am currently west of my destination (since my x-coordinate is less than the x-coordinate of my destination), and north of it (since my y-coordinate is greater than the y-coordinate of my destination). Therefore, the optimal direction to move in would be either east to increase my x-coordinate or south to decrease my y-coordinate. Since I came from the west, it would be more efficient to move in a new direction rather than backtracking, so south seems like the better choice. However, I also need to consider that my y-coordinate is significantly further from my destination's y-coordinate than my x-coordinate is from my destination's x-coordinate. This suggests that moving south might be the more efficient move.\n",
      "\n",
      "Final Answer: South\u001b[0m\n",
      "\n",
      "\u001b[1m> Finished chain.\u001b[0m\n"
     ]
    },
    {
     "data": {
      "image/png": "[encoded data removed]",
      "text/plain": [
       "<Figure size 640x480 with 1 Axes>"
      ]
     },
     "metadata": {},
     "output_type": "display_data"
    },
    {
     "name": "stderr",
     "output_type": "stream",
     "text": [
      "2024-05-28 12:41:11,293 - 24920 - __init__.py-__init__:518 - WARNING: Overriding of current TracerProvider is not allowed\n"
     ]
    },
    {
     "name": "stdout",
     "output_type": "stream",
     "text": [
      "\n",
      "\n",
      "\u001b[1m> Entering new CrewAgentExecutor chain...\u001b[0m\n"
     ]
    },
    {
     "name": "stderr",
     "output_type": "stream",
     "text": [
      "2024-05-28 12:41:15,603 - 24920 - __init__.py-__init__:518 - WARNING: Overriding of current TracerProvider is not allowed\n"
     ]
    },
    {
     "name": "stdout",
     "output_type": "stream",
     "text": [
      "\u001b[32;1m\u001b[1;3mConsidering our current position is (21,37) and our destination is (12,36), we need to move towards the west (lowering our x-coordinate) and slightly towards the south (lowering our y-coordinate). However, as we cannot move east due to a wall and we have just come from the south, the most logical move would be to go west to make progress towards our destination.\n",
      "\n",
      "Final Answer: West\u001b[0m\n",
      "\n",
      "\u001b[1m> Finished chain.\u001b[0m\n",
      "\n",
      "\n",
      "\u001b[1m> Entering new CrewAgentExecutor chain...\u001b[0m\n"
     ]
    },
    {
     "name": "stderr",
     "output_type": "stream",
     "text": [
      "2024-05-28 12:41:20,159 - 24920 - __init__.py-__init__:518 - WARNING: Overriding of current TracerProvider is not allowed\n"
     ]
    },
    {
     "name": "stdout",
     "output_type": "stream",
     "text": [
      "\u001b[32;1m\u001b[1;3mGiven my current position (29,9) and my goal is (20,12), I need to move towards the west to decrease my x-coordinate and reach closer to the goal. As I came from the east, moving back in that direction would take me further away from the goal. Since my north is blocked by a wall and moving south would take me away from my y-coordinate goal, west is the best direction to move.\n",
      "\n",
      "Final Answer: West\u001b[0m\n",
      "\n",
      "\u001b[1m> Finished chain.\u001b[0m\n",
      "\n",
      "\n",
      "\u001b[1m> Entering new CrewAgentExecutor chain...\u001b[0m\n"
     ]
    },
    {
     "name": "stderr",
     "output_type": "stream",
     "text": [
      "2024-05-28 12:41:24,354 - 24920 - __init__.py-__init__:518 - WARNING: Overriding of current TracerProvider is not allowed\n"
     ]
    },
    {
     "name": "stdout",
     "output_type": "stream",
     "text": [
      "\u001b[32;1m\u001b[1;3mGiven my current coordinates are (3,19) and my destination is (5,15), I need to move south to lower my y-coordinate. However, south is blocked by a wall. East is also blocked, and since I came from the north, the only available option left to me is to move west. \n",
      "\n",
      "Final Answer: West\u001b[0m\n",
      "\n",
      "\u001b[1m> Finished chain.\u001b[0m\n",
      "\n",
      "\n",
      "\u001b[1m> Entering new CrewAgentExecutor chain...\u001b[0m\n",
      "\u001b[32;1m\u001b[1;3mBased on the current coordinates (3,36), the destination (5,10) is relatively south-east. However, since the south is blocked by a wall, the only viable option is to move east.\n",
      "\n",
      "Final Answer: East\u001b[0m\n",
      "\n",
      "\u001b[1m> Finished chain.\u001b[0m\n"
     ]
    },
    {
     "data": {
      "image/png": "[encoded data removed]",
      "text/plain": [
       "<Figure size 640x480 with 1 Axes>"
      ]
     },
     "metadata": {},
     "output_type": "display_data"
    },
    {
     "name": "stderr",
     "output_type": "stream",
     "text": [
      "2024-05-28 12:41:28,107 - 24920 - __init__.py-__init__:518 - WARNING: Overriding of current TracerProvider is not allowed\n"
     ]
    },
    {
     "name": "stdout",
     "output_type": "stream",
     "text": [
      "\n",
      "\n",
      "\u001b[1m> Entering new CrewAgentExecutor chain...\u001b[0m\n"
     ]
    },
    {
     "name": "stderr",
     "output_type": "stream",
     "text": [
      "2024-05-28 12:41:31,424 - 24920 - __init__.py-__init__:518 - WARNING: Overriding of current TracerProvider is not allowed\n"
     ]
    },
    {
     "name": "stdout",
     "output_type": "stream",
     "text": [
      "\u001b[32;1m\u001b[1;3mLooking at my current coordinates (20,37) and my destination (12,36), I am currently east and slightly north of my destination. Considering I came from east and I can't go south due to a wall, I should move west to get closer to the destination on the x-axis. \n",
      "\n",
      "Final Answer: West\u001b[0m\n",
      "\n",
      "\u001b[1m> Finished chain.\u001b[0m\n",
      "\n",
      "\n",
      "\u001b[1m> Entering new CrewAgentExecutor chain...\u001b[0m\n"
     ]
    },
    {
     "name": "stderr",
     "output_type": "stream",
     "text": [
      "2024-05-28 12:41:36,487 - 24920 - __init__.py-__init__:518 - WARNING: Overriding of current TracerProvider is not allowed\n"
     ]
    },
    {
     "name": "stdout",
     "output_type": "stream",
     "text": [
      "\u001b[32;1m\u001b[1;3mGiven my current location and the destination, I need to move west to reach the goal. However, my west is blocked by a wall. Similarly, my south and north are also blocked by walls. The only direction available for me to move is east. Despite the fact that moving east is taking me further away from my destination, it's the only option available at the moment. Therefore, I should move east and hopefully, I'll find a path that leads me to the destination.\n",
      "\n",
      "Final Answer: East\u001b[0m\n",
      "\n",
      "\u001b[1m> Finished chain.\u001b[0m\n",
      "\n",
      "\n",
      "\u001b[1m> Entering new CrewAgentExecutor chain...\u001b[0m\n"
     ]
    },
    {
     "name": "stderr",
     "output_type": "stream",
     "text": [
      "2024-05-28 12:41:40,993 - 24920 - __init__.py-__init__:518 - WARNING: Overriding of current TracerProvider is not allowed\n"
     ]
    },
    {
     "name": "stdout",
     "output_type": "stream",
     "text": [
      "\u001b[32;1m\u001b[1;3mIn order to reach my destination, I need to analyze the current coordinates and the destination coordinates. I'm currently at (2,19) and I need to get to (5,15). The x-coordinate needs to increase and the y-coordinate needs to decrease. Since I came from the east, the west is not an option, so I need to decide between north and south. Since the y-coordinate needs to decrease, I should move south.\n",
      "\n",
      "Final Answer: South\u001b[0m\n",
      "\n",
      "\u001b[1m> Finished chain.\u001b[0m\n",
      "\n",
      "\n",
      "\u001b[1m> Entering new CrewAgentExecutor chain...\u001b[0m\n",
      "\u001b[32;1m\u001b[1;3mLooking at the current coordinates (4,36), I need to move to (5,10). The x-coordinate needs to increase by 1 and the y-coordinate needs to decrease significantly. Since I can only move east, west, south and north, and south is blocked by a wall, the most logical move would be to head north first to decrease the y-coordinate. Then I can adjust the x-coordinate later by moving east or west. \n",
      "\n",
      "Final Answer: North\u001b[0m\n",
      "\n",
      "\u001b[1m> Finished chain.\u001b[0m\n"
     ]
    },
    {
     "data": {
      "image/png": "[encoded data removed]",
      "text/plain": [
       "<Figure size 640x480 with 1 Axes>"
      ]
     },
     "metadata": {},
     "output_type": "display_data"
    },
    {
     "name": "stderr",
     "output_type": "stream",
     "text": [
      "2024-05-28 12:41:46,830 - 24920 - __init__.py-__init__:518 - WARNING: Overriding of current TracerProvider is not allowed\n"
     ]
    },
    {
     "name": "stdout",
     "output_type": "stream",
     "text": [
      "\n",
      "\n",
      "\u001b[1m> Entering new CrewAgentExecutor chain...\u001b[0m\n"
     ]
    },
    {
     "name": "stderr",
     "output_type": "stream",
     "text": [
      "2024-05-28 12:41:54,681 - 24920 - __init__.py-__init__:518 - WARNING: Overriding of current TracerProvider is not allowed\n"
     ]
    },
    {
     "name": "stdout",
     "output_type": "stream",
     "text": [
      "\u001b[32;1m\u001b[1;3mConsidering that I am currently at (19,37) and my destination is at (12,36), I need to move towards the west on the x-axis to reach the destination. However, there's a wall towards the west, which means I cannot move in that direction. Therefore, I need to find an alternate route. The remaining options are to move east, north, or south as there are paths in these directions. Since I have just come from the east, going back in that direction would not be beneficial. From a strategic point of view, moving south or north would potentially allow me to later move towards the west, bypassing the wall. Since the y-coordinate of the destination is slightly below my current position, it would be logical to move south.\n",
      "\n",
      "Final Answer: South\u001b[0m\n",
      "\n",
      "\u001b[1m> Finished chain.\u001b[0m\n",
      "\n",
      "\n",
      "\u001b[1m> Entering new CrewAgentExecutor chain...\u001b[0m\n"
     ]
    },
    {
     "name": "stderr",
     "output_type": "stream",
     "text": [
      "2024-05-28 12:41:59,439 - 24920 - __init__.py-__init__:518 - WARNING: Overriding of current TracerProvider is not allowed\n"
     ]
    },
    {
     "name": "stdout",
     "output_type": "stream",
     "text": [
      "\u001b[32;1m\u001b[1;3mTo reach my destination from my current position (29,9) to (20,12), I need to move towards the west and north. However, my path to the north is blocked by a wall. I came from the west, so I know that path is clear. The east and south paths are also clear, but moving in those directions will take me further away from my destination. Therefore, the best move would be to continue west.\n",
      "\n",
      "Final Answer: West\u001b[0m\n",
      "\n",
      "\u001b[1m> Finished chain.\u001b[0m\n",
      "\n",
      "\n",
      "\u001b[1m> Entering new CrewAgentExecutor chain...\u001b[0m\n"
     ]
    },
    {
     "name": "stderr",
     "output_type": "stream",
     "text": [
      "2024-05-28 12:42:03,843 - 24920 - __init__.py-__init__:518 - WARNING: Overriding of current TracerProvider is not allowed\n"
     ]
    },
    {
     "name": "stdout",
     "output_type": "stream",
     "text": [
      "\u001b[32;1m\u001b[1;3mTaking into consideration that I am currently at coordinates (2,18) and my destination is (5,15), I need to move towards the south and east to decrease my y-coordinate and increase my x-coordinate respectively. However, my path towards the east is blocked by a wall. Consequently, my best option would be to move south, which will bring me closer to my destination.\n",
      "\n",
      "Final Answer: South\u001b[0m\n",
      "\n",
      "\u001b[1m> Finished chain.\u001b[0m\n",
      "\n",
      "\n",
      "\u001b[1m> Entering new CrewAgentExecutor chain...\u001b[0m\n",
      "\u001b[32;1m\u001b[1;3mConsidering my current position at (4,37) and my destination at (5,10), I need to move southward to decrease my y-coordinate to reach 10. However, I am also required to increase my x-coordinate by 1 to reach 5. Given that I can only move in one direction at a time, and that I came from south, I should move east first to avoid going back. \n",
      "\n",
      "Final Answer: East\u001b[0m\n",
      "\n",
      "\u001b[1m> Finished chain.\u001b[0m\n"
     ]
    },
    {
     "data": {
      "image/png": "[encoded data removed]",
      "text/plain": [
       "<Figure size 640x480 with 1 Axes>"
      ]
     },
     "metadata": {},
     "output_type": "display_data"
    },
    {
     "name": "stderr",
     "output_type": "stream",
     "text": [
      "2024-05-28 12:42:08,899 - 24920 - __init__.py-__init__:518 - WARNING: Overriding of current TracerProvider is not allowed\n"
     ]
    },
    {
     "name": "stdout",
     "output_type": "stream",
     "text": [
      "\n",
      "\n",
      "\u001b[1m> Entering new CrewAgentExecutor chain...\u001b[0m\n"
     ]
    },
    {
     "name": "stderr",
     "output_type": "stream",
     "text": [
      "2024-05-28 12:42:13,852 - 24920 - __init__.py-__init__:518 - WARNING: Overriding of current TracerProvider is not allowed\n"
     ]
    },
    {
     "name": "stdout",
     "output_type": "stream",
     "text": [
      "\u001b[32;1m\u001b[1;3mConsidering the current coordinates (19,36) and the destination coordinates (12,36), it is clear that the destination is to the west of the current location as the y-coordinates are the same and the x-coordinate of the destination is less than the x-coordinate of the current location. Since the path to the west is open and we cannot move east due to a wall, the best option would be to move west.\n",
      "\n",
      "Final Answer: West\u001b[0m\n",
      "\n",
      "\u001b[1m> Finished chain.\u001b[0m\n",
      "\n",
      "\n",
      "\u001b[1m> Entering new CrewAgentExecutor chain...\u001b[0m\n"
     ]
    },
    {
     "name": "stderr",
     "output_type": "stream",
     "text": [
      "2024-05-28 12:42:18,905 - 24920 - __init__.py-__init__:518 - WARNING: Overriding of current TracerProvider is not allowed\n"
     ]
    },
    {
     "name": "stdout",
     "output_type": "stream",
     "text": [
      "\u001b[32;1m\u001b[1;3mGiven the information, the only available path to move is East. We are currently at (28,9) and our destination is at (20,12). However, the North, West and South are blocked by a wall. Since our destination lies to the West, we cannot directly move towards it. Therefore, the only logical direction to move next is East in hopes of finding another route that leads towards our destination.\n",
      "\n",
      "Final Answer: East.\u001b[0m\n",
      "\n",
      "\u001b[1m> Finished chain.\u001b[0m\n",
      "\n",
      "\n",
      "\u001b[1m> Entering new CrewAgentExecutor chain...\u001b[0m\n"
     ]
    },
    {
     "name": "stderr",
     "output_type": "stream",
     "text": [
      "2024-05-28 12:42:23,456 - 24920 - __init__.py-__init__:518 - WARNING: Overriding of current TracerProvider is not allowed\n"
     ]
    },
    {
     "name": "stdout",
     "output_type": "stream",
     "text": [
      "\u001b[32;1m\u001b[1;3mGiven that I am at (2,17) and my destination is at (5,15), I need to move towards the east and south. However, the east is blocked by a wall, which leaves me with the options of moving west, south, or back north where I came from. Since my destination is south of my current position, the most rational move is south to get closer to my goal. \n",
      "\n",
      "Final Answer: South\u001b[0m\n",
      "\n",
      "\u001b[1m> Finished chain.\u001b[0m\n",
      "\n",
      "\n",
      "\u001b[1m> Entering new CrewAgentExecutor chain...\u001b[0m\n",
      "\u001b[32;1m\u001b[1;3mSince I am currently at (5,37) and my goal is to reach (5,10), I need to move along the y-axis. Considering the north corresponds to increase in the y-coordinate and south corresponds to decrease, I have to move in the direction where the y-coordinate decreases since the destination point has a lower y-coordinate than the current point. Furthermore, I came from the west, and since there are no obstacles or walls in any direction, I'm free to move south.\n",
      "\n",
      "Final Answer: South\u001b[0m\n",
      "\n",
      "\u001b[1m> Finished chain.\u001b[0m\n"
     ]
    },
    {
     "data": {
      "image/png": "[encoded data removed]",
      "text/plain": [
       "<Figure size 640x480 with 1 Axes>"
      ]
     },
     "metadata": {},
     "output_type": "display_data"
    },
    {
     "name": "stderr",
     "output_type": "stream",
     "text": [
      "2024-05-28 12:42:29,249 - 24920 - __init__.py-__init__:518 - WARNING: Overriding of current TracerProvider is not allowed\n"
     ]
    },
    {
     "name": "stdout",
     "output_type": "stream",
     "text": [
      "\n",
      "\n",
      "\u001b[1m> Entering new CrewAgentExecutor chain...\u001b[0m\n"
     ]
    },
    {
     "name": "stderr",
     "output_type": "stream",
     "text": [
      "2024-05-28 12:42:34,098 - 24920 - __init__.py-__init__:518 - WARNING: Overriding of current TracerProvider is not allowed\n"
     ]
    },
    {
     "name": "stdout",
     "output_type": "stream",
     "text": [
      "\u001b[32;1m\u001b[1;3mConsidering my current coordinates are (18,36) and my destination is (12,36), I need to move along the x-axis, as the y-coordinate of my destination is the same as my current position. The x-coordinate of my destination is less than my current position, indicating that I need to move west to reach my destination. Since there is a path to the west and I came from the east, I should move west.\n",
      "\n",
      "Final Answer: West\u001b[0m\n",
      "\n",
      "\u001b[1m> Finished chain.\u001b[0m\n",
      "\n",
      "\n",
      "\u001b[1m> Entering new CrewAgentExecutor chain...\u001b[0m\n"
     ]
    },
    {
     "name": "stderr",
     "output_type": "stream",
     "text": [
      "2024-05-28 12:42:39,005 - 24920 - __init__.py-__init__:518 - WARNING: Overriding of current TracerProvider is not allowed\n"
     ]
    },
    {
     "name": "stdout",
     "output_type": "stream",
     "text": [
      "\u001b[32;1m\u001b[1;3mBased on the current coordinates and the destination, I'm currently at (29,9) and my destination is at (20,12). This means I need to move west to decrease my x-coordinate and north to increase my y-coordinate. However, I cannot move north because it's blocked by a wall. Therefore, my best option is to move towards the west since it's the only feasible direction I can take to get closer to my destination.\n",
      "\n",
      "Final Answer: West\u001b[0m\n",
      "\n",
      "\u001b[1m> Finished chain.\u001b[0m\n",
      "\n",
      "\n",
      "\u001b[1m> Entering new CrewAgentExecutor chain...\u001b[0m\n"
     ]
    },
    {
     "name": "stderr",
     "output_type": "stream",
     "text": [
      "2024-05-28 12:42:45,444 - 24920 - __init__.py-__init__:518 - WARNING: Overriding of current TracerProvider is not allowed\n"
     ]
    },
    {
     "name": "stdout",
     "output_type": "stream",
     "text": [
      "\u001b[32;1m\u001b[1;3mGiven my current position at (2,16) and my destination at (5,15), my goal is to move closer to the destination without hitting any walls. My east is blocked which means I cannot move towards the x-axis in the positive direction. I came from the north which suggests that going back is not a wise decision. The remaining options are west and south. Since moving west would increase the x coordinate and bring me further from my destination, the best option to get closer to my destination is to move south, which will decrease the y coordinate.\n",
      "\n",
      "Final Answer: South\u001b[0m\n",
      "\n",
      "\u001b[1m> Finished chain.\u001b[0m\n",
      "\n",
      "\n",
      "\u001b[1m> Entering new CrewAgentExecutor chain...\u001b[0m\n",
      "\u001b[32;1m\u001b[1;3mBased on my current coordinates, I need to move towards the south to reach my destination. However, my path to the south is blocked by a wall. I cannot move north as I just came from there. Therefore, I can only choose between moving east or west. Since the task does not specify any obstacles in either of these directions, I can choose either. \n",
      "\n",
      "Final Answer: East\u001b[0m\n",
      "\n",
      "\u001b[1m> Finished chain.\u001b[0m\n"
     ]
    },
    {
     "data": {
      "image/png": "[encoded data removed]",
      "text/plain": [
       "<Figure size 640x480 with 1 Axes>"
      ]
     },
     "metadata": {},
     "output_type": "display_data"
    },
    {
     "name": "stderr",
     "output_type": "stream",
     "text": [
      "2024-05-28 12:42:50,328 - 24920 - __init__.py-__init__:518 - WARNING: Overriding of current TracerProvider is not allowed\n"
     ]
    },
    {
     "name": "stdout",
     "output_type": "stream",
     "text": [
      "\n",
      "\n",
      "\u001b[1m> Entering new CrewAgentExecutor chain...\u001b[0m\n"
     ]
    },
    {
     "name": "stderr",
     "output_type": "stream",
     "text": [
      "2024-05-28 12:42:53,975 - 24920 - __init__.py-__init__:518 - WARNING: Overriding of current TracerProvider is not allowed\n"
     ]
    },
    {
     "name": "stdout",
     "output_type": "stream",
     "text": [
      "\u001b[32;1m\u001b[1;3mGiven my current coordinates are (17,36) and my destination is (12,36), I need to move along the x-axis. Since the x-value of my destination is less than my current x-value, I must move west. Since there is a path to the west, it is safe to move in this direction.\n",
      "\n",
      "Final Answer: West\u001b[0m\n",
      "\n",
      "\u001b[1m> Finished chain.\u001b[0m\n",
      "\n",
      "\n",
      "\u001b[1m> Entering new CrewAgentExecutor chain...\u001b[0m\n"
     ]
    },
    {
     "name": "stderr",
     "output_type": "stream",
     "text": [
      "2024-05-28 12:42:58,810 - 24920 - __init__.py-__init__:518 - WARNING: Overriding of current TracerProvider is not allowed\n"
     ]
    },
    {
     "name": "stdout",
     "output_type": "stream",
     "text": [
      "\u001b[32;1m\u001b[1;3mGiven that my current coordinates are (28,9) and I need to reach (20,12), I need to move west and north. However, from the current position, only the east is open and all other directions are blocked. Since I cannot move in the desired direction and I came from the east, the only available choice is to go back from where I came.\n",
      "\n",
      "Final Answer: East\u001b[0m\n",
      "\n",
      "\u001b[1m> Finished chain.\u001b[0m\n",
      "\n",
      "\n",
      "\u001b[1m> Entering new CrewAgentExecutor chain...\u001b[0m\n"
     ]
    },
    {
     "name": "stderr",
     "output_type": "stream",
     "text": [
      "2024-05-28 12:43:01,513 - 24920 - __init__.py-__init__:518 - WARNING: Overriding of current TracerProvider is not allowed\n"
     ]
    },
    {
     "name": "stdout",
     "output_type": "stream",
     "text": [
      "\u001b[32;1m\u001b[1;3mConsidering my current coordinates are (2,15) and my destination is (5,15), I need to move along the x-axis while the y-axis remains constant. The direction that would allow me to do this is east.\n",
      "\n",
      "Final Answer: East\u001b[0m\n",
      "\n",
      "\u001b[1m> Finished chain.\u001b[0m\n",
      "\n",
      "\n",
      "\u001b[1m> Entering new CrewAgentExecutor chain...\u001b[0m\n",
      "\u001b[32;1m\u001b[1;3mBased on my current coordinates (6,36) and my destination (5,10), I need to go south to decrease my y-coordinate and west to decrease my x-coordinate. Since I just came from west, I should avoid backtracking. Therefore, my best move would be to go south.\n",
      "\n",
      "Final Answer: South\u001b[0m\n",
      "\n",
      "\u001b[1m> Finished chain.\u001b[0m\n"
     ]
    },
    {
     "data": {
      "image/png": "[encoded data removed]",
      "text/plain": [
       "<Figure size 640x480 with 1 Axes>"
      ]
     },
     "metadata": {},
     "output_type": "display_data"
    },
    {
     "name": "stderr",
     "output_type": "stream",
     "text": [
      "2024-05-28 12:43:06,363 - 24920 - __init__.py-__init__:518 - WARNING: Overriding of current TracerProvider is not allowed\n"
     ]
    },
    {
     "name": "stdout",
     "output_type": "stream",
     "text": [
      "\n",
      "\n",
      "\u001b[1m> Entering new CrewAgentExecutor chain...\u001b[0m\n"
     ]
    },
    {
     "name": "stderr",
     "output_type": "stream",
     "text": [
      "2024-05-28 12:43:12,145 - 24920 - __init__.py-__init__:518 - WARNING: Overriding of current TracerProvider is not allowed\n"
     ]
    },
    {
     "name": "stdout",
     "output_type": "stream",
     "text": [
      "\u001b[32;1m\u001b[1;3mGiven that my current coordinates are (16,36) and my destination is (12,36), and also taking into account that I can only move in the four cardinal directions (east, west, south, north), it seems clear that I need to move towards the west. This is because the x-coordinate of my destination is less than my current x-coordinate, pointing to the need to move westward. Moving in any other direction would take me further away from my destination.\n",
      "\n",
      "Final Answer: West\u001b[0m\n",
      "\n",
      "\u001b[1m> Finished chain.\u001b[0m\n",
      "\n",
      "\n",
      "\u001b[1m> Entering new CrewAgentExecutor chain...\u001b[0m\n"
     ]
    },
    {
     "name": "stderr",
     "output_type": "stream",
     "text": [
      "2024-05-28 12:43:16,437 - 24920 - __init__.py-__init__:518 - WARNING: Overriding of current TracerProvider is not allowed\n"
     ]
    },
    {
     "name": "stdout",
     "output_type": "stream",
     "text": [
      "\u001b[32;1m\u001b[1;3mConsidering the current and destination coordinates, I'm at (29,9) and need to reach (20,12). This means I need to move west by 9 units and north by 3 units. However, I can't move north due to the wall. So, the logical choice is to move west.\n",
      "\n",
      "Final Answer: West\u001b[0m\n",
      "\n",
      "\u001b[1m> Finished chain.\u001b[0m\n",
      "\n",
      "\n",
      "\u001b[1m> Entering new CrewAgentExecutor chain...\u001b[0m\n"
     ]
    },
    {
     "name": "stderr",
     "output_type": "stream",
     "text": [
      "2024-05-28 12:43:19,784 - 24920 - __init__.py-__init__:518 - WARNING: Overriding of current TracerProvider is not allowed\n"
     ]
    },
    {
     "name": "stdout",
     "output_type": "stream",
     "text": [
      "\u001b[32;1m\u001b[1;3mGiven my current coordinates are (3,15) and I need to reach (5,15), I need to move along the x-axis. Both east and west are open to me, but I came from the west. Therefore, to get closer to my destination, I need to move east.\n",
      "\n",
      "Final Answer: East\u001b[0m\n",
      "\n",
      "\u001b[1m> Finished chain.\u001b[0m\n",
      "\n",
      "\n",
      "\u001b[1m> Entering new CrewAgentExecutor chain...\u001b[0m\n",
      "\u001b[32;1m\u001b[1;3mLooking at the coordinates, I'm currently at (6,35) and I need to get to (5,10). The x-axis represents east and west, while the y-axis represents north and south. Because I'm currently at a higher y-coordinate, and I need to get to a lower one, I should move south. However, I must also consider that my destination's x-coordinate is lower than my current x-coordinate, suggesting I need to move west. But, my west is blocked by a wall, meaning I cannot move in that direction. Therefore, my best choice based on the available options would be to move south.\n",
      "\n",
      "Final Answer: South\u001b[0m\n",
      "\n",
      "\u001b[1m> Finished chain.\u001b[0m\n"
     ]
    },
    {
     "data": {
      "image/png": "[encoded data removed]",
      "text/plain": [
       "<Figure size 640x480 with 1 Axes>"
      ]
     },
     "metadata": {},
     "output_type": "display_data"
    },
    {
     "name": "stderr",
     "output_type": "stream",
     "text": [
      "2024-05-28 12:43:27,770 - 24920 - __init__.py-__init__:518 - WARNING: Overriding of current TracerProvider is not allowed\n"
     ]
    },
    {
     "name": "stdout",
     "output_type": "stream",
     "text": [
      "\n",
      "\n",
      "\u001b[1m> Entering new CrewAgentExecutor chain...\u001b[0m\n"
     ]
    },
    {
     "name": "stderr",
     "output_type": "stream",
     "text": [
      "2024-05-28 12:43:32,297 - 24920 - __init__.py-__init__:518 - WARNING: Overriding of current TracerProvider is not allowed\n"
     ]
    },
    {
     "name": "stdout",
     "output_type": "stream",
     "text": [
      "\u001b[32;1m\u001b[1;3mGiven my current position at (15,36), I need to reach the destination at (12,36). The x-axis represents the east and west directions. Since the destination's x-coordinate (12) is less than my current x-coordinate (15), I need to move westwards to decrease my x-coordinate and reach the destination. Importantly, I came from the east, so moving west won't lead me back to where I started. \n",
      "\n",
      "Final Answer: West\u001b[0m\n",
      "\n",
      "\u001b[1m> Finished chain.\u001b[0m\n",
      "\n",
      "\n",
      "\u001b[1m> Entering new CrewAgentExecutor chain...\u001b[0m\n"
     ]
    },
    {
     "name": "stderr",
     "output_type": "stream",
     "text": [
      "2024-05-28 12:43:34,041 - 24920 - __init__.py-__init__:518 - WARNING: Overriding of current TracerProvider is not allowed\n"
     ]
    },
    {
     "name": "stdout",
     "output_type": "stream",
     "text": [
      "\u001b[32;1m\u001b[1;3mGiven the current situation, the only possible direction I can move is east as all other directions are blocked by a wall.\n",
      "\n",
      "Final Answer: East\u001b[0m\n",
      "\n",
      "\u001b[1m> Finished chain.\u001b[0m\n",
      "\n",
      "\n",
      "\u001b[1m> Entering new CrewAgentExecutor chain...\u001b[0m\n"
     ]
    },
    {
     "name": "stderr",
     "output_type": "stream",
     "text": [
      "2024-05-28 12:43:37,554 - 24920 - __init__.py-__init__:518 - WARNING: Overriding of current TracerProvider is not allowed\n"
     ]
    },
    {
     "name": "stdout",
     "output_type": "stream",
     "text": [
      "\u001b[32;1m\u001b[1;3mLooking at the coordinates, my current position is (4,15) and I need to go to (5,15). The difference in the coordinates lies on the x-axis, with my destination being one unit to the east of my current location. Since there is a path available in the east direction, I should move east to reach my destination.\n",
      "\n",
      "Final Answer: East\u001b[0m\n",
      "\n",
      "\u001b[1m> Finished chain.\u001b[0m\n",
      "\n",
      "\n",
      "\u001b[1m> Entering new CrewAgentExecutor chain...\u001b[0m\n",
      "\u001b[32;1m\u001b[1;3mLooking at our current coordinates (6,34), we are on the y axis at 34 and we need to get to 10. Since we are currently north of our destination (5,10), we need to head south. As we can only move one direction at a time, south is the best direction to move next.\n",
      "\n",
      "Final Answer: South\u001b[0m\n",
      "\n",
      "\u001b[1m> Finished chain.\u001b[0m\n"
     ]
    },
    {
     "data": {
      "image/png": "[encoded data removed]",
      "text/plain": [
       "<Figure size 640x480 with 1 Axes>"
      ]
     },
     "metadata": {},
     "output_type": "display_data"
    }
   ],
   "source": [
    "# 나중에 코드 간소화\n",
    "\n",
    "agents = PathFindingAgents()\n",
    "tasks = PathFindingTasks()\n",
    "\n",
    "agent0 = agents.path_finder()\n",
    "agent1 = agents.path_finder()\n",
    "agent2 = agents.path_finder()\n",
    "agent3 = agents.path_finder()\n",
    "\n",
    "action_list0 = []\n",
    "action_list1 = []\n",
    "action_list2 = []\n",
    "action_list3 = []\n",
    "\n",
    "#10 timesteps\n",
    "for n in range(10):\n",
    "\n",
    "  observations = env.observe()\n",
    "\n",
    "  agents_obs = [observations[0][i][1] for i in range(num_agents)]\n",
    "  a0_obs = agents_obs[0]\n",
    "  a1_obs = agents_obs[1]\n",
    "  a2_obs = agents_obs[2]\n",
    "  a3_obs = agents_obs[3]\n",
    "\n",
    "  x_coords = [observations[1][i][1] for i in range(num_agents)]\n",
    "  y_coords = [39 - observations[1][i][0] for i in range(num_agents)]\n",
    "  x0, x1, x2, x3 = x_coords\n",
    "  y0, y1, y2, y3 = y_coords\n",
    "\n",
    "  x_finish = [tests[0][2][i][1] for i in range(num_agents)]\n",
    "  y_finish = [39 - tests[0][2][i][0] for i in range(num_agents)]\n",
    "  x0_finish, x1_finish, x2_finish, x3_finish = x_finish\n",
    "  y0_finish, y1_finish, y2_finish, y3_finish = y_finish\n",
    "\n",
    "\n",
    "  if a0_obs[4][3] == 0:\n",
    "    west0 = \"\"\"To your west lies a path.\"\"\"\n",
    "  else:\n",
    "    west0 = \"\"\"Your west is blocked by a wall.\"\"\"\n",
    "\n",
    "  if a0_obs[4][5] == 0:\n",
    "    east0 = \"\"\"To your east lies a path.\"\"\"\n",
    "  else:\n",
    "    east0 = \"\"\"Your east is blocked by a wall.\"\"\"\n",
    "\n",
    "  if a0_obs[5][4] == 0:\n",
    "    south0 = \"\"\"To your south lies a path.\"\"\"\n",
    "  else:\n",
    "    south0 = \"\"\"Your south is blocked by a wall.\"\"\"\n",
    "\n",
    "  if a0_obs[3][4] == 0:\n",
    "    north0 = \"\"\"To your north lies a path.\"\"\"\n",
    "  else:\n",
    "    north0 = \"\"\"Your north is blocked by a wall.\"\"\"\n",
    "\n",
    "  if len(action_list0) == 0:\n",
    "    last_action0 = \"\"\"\"\"\"\n",
    "  elif action_list0[-1] in ['West', 'West.']:\n",
    "    last_action0 = f\"\"\"You came from east.\"\"\"\n",
    "  elif action_list0[-1] in ['East', 'East.']:\n",
    "    last_action0 = f\"\"\"You came from west.\"\"\"\n",
    "  elif action_list0[-1] in ['South', 'South.']:\n",
    "    last_action0 = f\"\"\"You came from north.\"\"\"\n",
    "  elif action_list0[-1] in ['North', 'North.']:\n",
    "    last_action0 = f\"\"\"You came from south.\"\"\"\n",
    "  elif action_list0[-1] in ['Stay', 'Stay.']:\n",
    "    last_action0 = f\"\"\"You paused once for another agent.\"\"\"\n",
    "  else:\n",
    "    last_action0 = \"\"\"\"\"\"\n",
    "\n",
    "\n",
    "  if a1_obs[4][3] == 0:\n",
    "    west1 = \"\"\"To your west lies a path.\"\"\"\n",
    "  else:\n",
    "    west1 = \"\"\"Your west is blocked by a wall.\"\"\"\n",
    "\n",
    "  if a1_obs[4][5] == 0:\n",
    "    east1 = \"\"\"To your east lies a path.\"\"\"\n",
    "  else:\n",
    "    east1 = \"\"\"Your east is blocked by a wall.\"\"\"\n",
    "\n",
    "  if a1_obs[5][4] == 0:\n",
    "    south1 = \"\"\"To your south lies a path.\"\"\"\n",
    "  else:\n",
    "    south1 = \"\"\"Your south is blocked by a wall.\"\"\"\n",
    "\n",
    "  if a1_obs[3][4] == 0:\n",
    "    north1 = \"\"\"To your north lies a path.\"\"\"\n",
    "  else:\n",
    "    north1 = \"\"\"Your north is blocked by a wall.\"\"\"\n",
    "\n",
    "  if len(action_list1) == 0:\n",
    "    last_action1 = \"\"\"\"\"\"\n",
    "  elif action_list1[-1] in ['West', 'West.']:\n",
    "    last_action1 = f\"\"\"You came from east.\"\"\"\n",
    "  elif action_list1[-1] in ['East', 'East.']:\n",
    "    last_action1 = f\"\"\"You came from west.\"\"\"\n",
    "  elif action_list1[-1] in ['South', 'South.']:\n",
    "    last_action1 = f\"\"\"You came from north.\"\"\"\n",
    "  elif action_list1[-1] in ['North', 'North.']:\n",
    "    last_action1 = f\"\"\"You came from south.\"\"\"\n",
    "  elif action_list1[-1] in ['Stay', 'Stay.']:\n",
    "    last_action1 = f\"\"\"You paused once for another agent.\"\"\"\n",
    "  else:\n",
    "    last_action1 = \"\"\"\"\"\"\n",
    "\n",
    "\n",
    "  if a2_obs[4][3] == 0:\n",
    "    west2 = \"\"\"To your west lies a path.\"\"\"\n",
    "  else:\n",
    "    west2 = \"\"\"Your west is blocked by a wall.\"\"\"\n",
    "\n",
    "  if a2_obs[4][5] == 0:\n",
    "    east2 = \"\"\"To your east lies a path.\"\"\"\n",
    "  else:\n",
    "    east2 = \"\"\"Your east is blocked by a wall.\"\"\"\n",
    "\n",
    "  if a2_obs[5][4] == 0:\n",
    "    south2 = \"\"\"To your south lies a path.\"\"\"\n",
    "  else:\n",
    "    south2 = \"\"\"Your south is blocked by a wall.\"\"\"\n",
    "\n",
    "  if a2_obs[3][4] == 0:\n",
    "    north2 = \"\"\"To your north lies a path.\"\"\"\n",
    "  else:\n",
    "    north2 = \"\"\"Your north is blocked by a wall.\"\"\"\n",
    "\n",
    "  if len(action_list2) == 0:\n",
    "    last_action2 = \"\"\"\"\"\"\n",
    "  elif action_list2[-1] in ['West', 'West.']:\n",
    "    last_action2 = f\"\"\"You came from east.\"\"\"\n",
    "  elif action_list2[-1] in ['East', 'East.']:\n",
    "    last_action2 = f\"\"\"You came from west.\"\"\"\n",
    "  elif action_list2[-1] in ['South', 'South.']:\n",
    "    last_action2 = f\"\"\"You came from north.\"\"\"\n",
    "  elif action_list2[-1] in ['North', 'North.']:\n",
    "    last_action2 = f\"\"\"You came from south.\"\"\"\n",
    "  elif action_list2[-1] in ['Stay', 'Stay.']:\n",
    "    last_action2 = f\"\"\"You paused once for another agent.\"\"\"\n",
    "  else:\n",
    "    last_action2 = \"\"\"\"\"\"\n",
    "\n",
    "\n",
    "  if a3_obs[4][3] == 0:\n",
    "    west3 = \"\"\"To your west lies a path.\"\"\"\n",
    "  else:\n",
    "    west3 = \"\"\"Your west is blocked by a wall.\"\"\"\n",
    "\n",
    "  if a3_obs[4][5] == 0:\n",
    "    east3 = \"\"\"To your east lies a path.\"\"\"\n",
    "  else:\n",
    "    east3 = \"\"\"Your east is blocked by a wall.\"\"\"\n",
    "\n",
    "  if a3_obs[5][4] == 0:\n",
    "    south3 = \"\"\"To your south lies a path.\"\"\"\n",
    "  else:\n",
    "    south3 = \"\"\"Your south is blocked by a wall.\"\"\"\n",
    "\n",
    "  if a3_obs[3][4] == 0:\n",
    "    north3 = \"\"\"To your north lies a path.\"\"\"\n",
    "  else:\n",
    "    north3 = \"\"\"Your north is blocked by a wall.\"\"\"\n",
    "\n",
    "  if len(action_list3) == 0:\n",
    "    last_action3 = \"\"\"\"\"\"\n",
    "  elif action_list3[-1] in ['West', 'West.']:\n",
    "    last_action3 = f\"\"\"You came from east.\"\"\"\n",
    "  elif action_list3[-1] in ['East', 'East.']:\n",
    "    last_action3 = f\"\"\"You came from west.\"\"\"\n",
    "  elif action_list3[-1] in ['South', 'South.']:\n",
    "    last_action3 = f\"\"\"You came from north.\"\"\"\n",
    "  elif action_list3[-1] in ['North', 'North.']:\n",
    "    last_action3 = f\"\"\"You came from south.\"\"\"\n",
    "  elif action_list3[-1] in ['Stay', 'Stay.']:\n",
    "    last_action3 = f\"\"\"You paused once for another agent.\"\"\"\n",
    "  else:\n",
    "    last_action3 = \"\"\"\"\"\"\n",
    "  \n",
    "\n",
    "  navigation0 = tasks.path_finding(agent0, x0, y0, x0_finish, y0_finish, east0, west0, north0, south0, last_action0)\n",
    "  navigation1 = tasks.path_finding(agent1, x1, y1, x1_finish, y1_finish, east1, west1, north1, south1, last_action1)\n",
    "  navigation2 = tasks.path_finding(agent2, x2, y2, x2_finish, y2_finish, east2, west2, north2, south2, last_action2)\n",
    "  navigation3 = tasks.path_finding(agent3, x3, y3, x3_finish, y3_finish, east3, west3, north3, south3, last_action3)\n",
    "\n",
    "\n",
    "  crew0 = Crew(\n",
    "    agents=[agent0],\n",
    "    tasks=[navigation0],\n",
    "    verbose=0,\n",
    "  )\n",
    "\n",
    "  result0 = crew0.kickoff()\n",
    "\n",
    "  action_list0.append(result0)\n",
    "\n",
    "  crew1 = Crew(\n",
    "    agents=[agent1],\n",
    "    tasks=[navigation1],\n",
    "    verbose=0,\n",
    "  )\n",
    "\n",
    "  result1 = crew1.kickoff()\n",
    "\n",
    "  action_list1.append(result1)\n",
    "\n",
    "  crew2 = Crew(\n",
    "    agents=[agent2],\n",
    "    tasks=[navigation2],\n",
    "    verbose=0,\n",
    "  )\n",
    "\n",
    "  result2 = crew2.kickoff()\n",
    "\n",
    "  action_list2.append(result2)\n",
    "\n",
    "  crew3 = Crew(\n",
    "    agents=[agent3],\n",
    "    tasks=[navigation3],\n",
    "    verbose=0,\n",
    "  )\n",
    "\n",
    "  result3 = crew3.kickoff()\n",
    "\n",
    "  action_list3.append(result3)\n",
    "\n",
    "\n",
    "  env.step([directiondict[result0], directiondict[result1], directiondict[result2], directiondict[result3]])\n",
    "  env.render()"
   ]
  },
  {
   "cell_type": "code",
   "execution_count": null,
   "metadata": {},
   "outputs": [],
   "source": []
  },
  {
   "cell_type": "code",
   "execution_count": null,
   "metadata": {},
   "outputs": [],
   "source": []
  },
  {
   "cell_type": "code",
   "execution_count": null,
   "metadata": {},
   "outputs": [],
   "source": []
  },
  {
   "cell_type": "code",
   "execution_count": null,
   "metadata": {},
   "outputs": [],
   "source": []
  },
  {
   "cell_type": "code",
   "execution_count": null,
   "metadata": {},
   "outputs": [],
   "source": []
  },
  {
   "cell_type": "code",
   "execution_count": null,
   "metadata": {},
   "outputs": [],
   "source": []
  }
 ],
 "metadata": {
  "kernelspec": {
   "display_name": "Python 3 (ipykernel)",
   "language": "python",
   "name": "python3"
  },
  "language_info": {
   "codemirror_mode": {
    "name": "ipython",
    "version": 3
   },
   "file_extension": ".py",
   "mimetype": "text/x-python",
   "name": "python",
   "nbconvert_exporter": "python",
   "pygments_lexer": "ipython3",
   "version": "3.10.14"
  }
 },
 "nbformat": 4,
 "nbformat_minor": 4
}
