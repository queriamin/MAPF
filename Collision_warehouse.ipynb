{
 "cells": [
  {
   "cell_type": "markdown",
   "metadata": {},
   "source": [
    "## warehouse collision 해결하고 warehouse에 코드로 넣기\n",
    "\n",
    "### deadend 해결을 heuristic map으로 구현한다면, navigate 설정을 조금 바꿔야 함 (어렵지 않음)"
   ]
  },
  {
   "cell_type": "code",
   "execution_count": 12,
   "metadata": {},
   "outputs": [],
   "source": [
    "import os\n",
    "import numpy as np\n",
    "from crewai import Agent, Task, Crew\n",
    "from environment import Environment\n",
    "from openai import OpenAI\n",
    "import configs\n",
    "import pickle\n",
    "\n",
    "os.environ[\"OPENAI_API_KEY\"] = \"\"\n",
    "client = OpenAI()"
   ]
  },
  {
   "cell_type": "code",
   "execution_count": 13,
   "metadata": {},
   "outputs": [],
   "source": [
    "#negotiator를 구성하기 위한 union find 알고리즘\n",
    "\n",
    "def find(parent, i):\n",
    "    if parent[i] == i:\n",
    "        return i\n",
    "    else:\n",
    "        return find(parent, parent[i])\n",
    "\n",
    "def union(parent, rank, x, y):\n",
    "    xroot = find(parent, x)\n",
    "    yroot = find(parent, y)\n",
    "\n",
    "    if xroot != yroot:\n",
    "        if rank[xroot] < rank[yroot]:\n",
    "            parent[xroot] = yroot\n",
    "        elif rank[xroot] > rank[yroot]:\n",
    "            parent[yroot] = xroot\n",
    "        else:\n",
    "            parent[yroot] = xroot\n",
    "            rank[xroot] += 1\n",
    "\n",
    "def merge_sets(lists):\n",
    "    element_to_index = {}\n",
    "    for i, subset in enumerate(lists):\n",
    "        for element in subset:\n",
    "            element_to_index[element] = i\n",
    "\n",
    "    parent = [i for i in range(len(lists))]\n",
    "    rank = [0] * len(lists)\n",
    "\n",
    "    for subset in lists:\n",
    "        first_element = subset[0]\n",
    "        for element in subset[1:]:\n",
    "            union(parent, rank, find(parent, element_to_index[first_element]), find(parent, element_to_index[element]))\n",
    "\n",
    "    new_sets = {}\n",
    "    for element in element_to_index:\n",
    "        root = find(parent, element_to_index[element])\n",
    "        if root not in new_sets:\n",
    "            new_sets[root] = set()\n",
    "        new_sets[root].add(element)\n",
    "\n",
    "    return [list(s) for s in new_sets.values()]"
   ]
  },
  {
   "cell_type": "code",
   "execution_count": 14,
   "metadata": {},
   "outputs": [
    {
     "data": {
      "image/png": "[encoded data removed]",
      "text/plain": [
       "<Figure size 640x480 with 1 Axes>"
      ]
     },
     "metadata": {},
     "output_type": "display_data"
    }
   ],
   "source": [
    "directiondict = {\n",
    "    'Stay': 0, 'North': 1, 'South': 2, 'West': 3, 'East': 4, 'Stay.': 0, 'North.': 1, 'South.': 2, 'West.': 3, 'East.': 4 \n",
    "}\n",
    "\n",
    "# Toy example 만들기(환경, 처음 위치, 목적지)\n",
    "toy = (np.array([[0, 0, 0, 0, 0, 0, 0, 0, 0, 0, 0], [0, 1, 1, 1, 1, 0, 1, 1, 1, 1, 0], [0, 1, 1, 1, 1, 0, 1, 1, 1, 1, 0], [0, 0, 0, 0, 0, 0, 0, 0, 0, 0, 0], [0, 1, 1, 1, 1, 0, 1, 1, 1, 1, 0], [0, 1, 1, 1, 1, 0, 1, 1, 1, 1, 0], [0, 0, 0, 0, 0, 0, 0, 0, 0, 0, 0]]), np.array([[3, 5], [3, 10]]), np.array([[2, 10], [3, 2]]))\n",
    "num_agents = len(toy[1])\n",
    "map_width = len(toy[0][0]) - 1\n",
    "\n",
    "env = Environment()\n",
    "env.load(toy[0], toy[1], toy[2])\n",
    "env.render()"
   ]
  },
  {
   "cell_type": "code",
   "execution_count": 15,
   "metadata": {},
   "outputs": [],
   "source": [
    "class PathFindingAgents:\n",
    "  def path_finder(self, agent_number):\n",
    "    return Agent(\n",
    "      role='Path finder',\n",
    "      goal='Start at the start point and reach the end point without crashing into a wall.',\n",
    "      backstory=f\"\"\"You are a veteran adventurer with a great sense of direction.\n",
    "      You understand which direction you need to move to get from where you are to where you want to go.\n",
    "      Your agent number is {agent_number}.\n",
    "      \"\"\",\n",
    "      verbose=True\n",
    "    )\n",
    "    \n",
    "  def negotiator(self):\n",
    "    return Agent(\n",
    "      role='Negotiator',\n",
    "      goal=\"\"\"Determine whether the deadlocked agents would collide with each other if they took their original planned moves, and if so, stop all but the agent with the largest number.\"\"\",\n",
    "      backstory=\"\"\"You're a veteran overseer, and you've been called in to resolve the deadlock, as each agent is in the other's line of sight.\n",
    "      \"\"\",\n",
    "      verbose=True,\n",
    "    )\n",
    "\t\n",
    "class PathFindingTasks():\n",
    "  def path_finding(self, agent, x, y, x_finish, y_finish, east, west, north, south, last_action):\n",
    "    return Task(\n",
    "      description=(\n",
    "        f\"\"\"\n",
    "        Your current coordinates are ({x},{y}) and your destination is ({x_finish},{y_finish}).\n",
    "        East and west in the coordinates correspond to the x axis.\n",
    "        South and north in the coordinates correspond to the y axis.\n",
    "        You can only move east, west, south and north or stay.\n",
    "        So, your answer will be {{East}}, {{West}}, {{South}}, {{North}}, or {{Stay}}.\n",
    "        You can only make one move at a time.\n",
    "        {east}\n",
    "        {west}\n",
    "        {south}\n",
    "        {north}\n",
    "        Which direction do you move next?\n",
    "        {last_action}\n",
    "        Answer in one word only: {{DIRECTION or ACTION}}\n",
    "        \"\"\"\n",
    "      ),\n",
    "      expected_output='Direction or action',\n",
    "      agent=agent\n",
    "    )\n",
    "    \n",
    "  def negotiate(self, agent):\n",
    "    return Task(\n",
    "      description=(\n",
    "        f\"\"\"\n",
    "        Determine whether the deadlocked agents would collide with each other if they took their original planned moves, and if so, stop all but the agent with the largest number.\n",
    "        The planned moves of each agent represent the previous outcomes.\n",
    "        \"\"\"\n",
    "      ),\n",
    "      expected_output='Direction of the agents',\n",
    "      agent=agent\n",
    "    )\n",
    "  \n",
    "  #수정 필요(다른 pathfinder를 그냥 동쪽에 있는걸로 해놨는데, observe한 환경에서 가장 번호가 높은 pathfinder의 상대적인 위치를 받아오도록 고쳐야 함)\n",
    "  def give_way(self, agent, east, west, north, south):\n",
    "    return Task(\n",
    "      description=(\n",
    "        f\"\"\"\n",
    "        You MUST avoid collisions with other path finders.\n",
    "        You can only move east, west, south and north or stay.\n",
    "        So, your answer will be {{East}}, {{West}}, {{South}}, {{North}}, or {{Stay}}.\n",
    "        You can only make one move at a time.\n",
    "        {east}\n",
    "        {west}\n",
    "        {south}\n",
    "        {north}\n",
    "        To the east of you is another pathfinder.\n",
    "        Which direction do you move next?\n",
    "        I recommend going to the 90-degree turn rather than the other side of the pathfinder, but you can ignore this instruction depending on your situation.\n",
    "        Answer in one word only: {{DIRECTION or ACTION}}\n",
    "        \"\"\"\n",
    "      ),\n",
    "      expected_output='Direction or action',\n",
    "      agent=agent\n",
    "    )\n",
    "\n",
    "agents = PathFindingAgents()\n",
    "tasks = PathFindingTasks()\n",
    "\n",
    "agents_set = [agents.path_finder(i) for i in range(num_agents)]\n",
    "negotiator = agents.negotiator()"
   ]
  },
  {
   "cell_type": "code",
   "execution_count": 16,
   "metadata": {},
   "outputs": [],
   "source": [
    "#에이전트들의 지난번 액션들\n",
    "action_list = [[] for _ in range(num_agents)]"
   ]
  },
  {
   "cell_type": "code",
   "execution_count": 17,
   "metadata": {},
   "outputs": [
    {
     "name": "stdout",
     "output_type": "stream",
     "text": [
      "\n",
      "\n",
      "\u001b[1m> Entering new CrewAgentExecutor chain...\u001b[0m\n"
     ]
    },
    {
     "name": "stderr",
     "output_type": "stream",
     "text": [
      "2024-06-17 13:58:26,982 - 3756 - __init__.py-__init__:518 - WARNING: Overriding of current TracerProvider is not allowed\n"
     ]
    },
    {
     "name": "stdout",
     "output_type": "stream",
     "text": [
      "\u001b[32;1m\u001b[1;3mGiven my current location at (5,7) and my destination at (10,8), I need to move towards the east to increase my x-coordinate. Paths exist in all directions, but moving east will bring me closer to my goal.\n",
      "\n",
      "Final Answer: East\u001b[0m\n",
      "\n",
      "\u001b[1m> Finished chain.\u001b[0m\n",
      "\n",
      "\n",
      "\u001b[1m> Entering new CrewAgentExecutor chain...\u001b[0m\n",
      "\u001b[32;1m\u001b[1;3mConsidering the current position and the final destination, I need to move towards the west to decrease the x-coordinate from 10 to 2 while keeping the y-coordinate constant at 7. \n",
      "\n",
      "Final Answer: West\u001b[0m\n",
      "\n",
      "\u001b[1m> Finished chain.\u001b[0m\n"
     ]
    },
    {
     "data": {
      "image/png": "[encoded data removed]",
      "text/plain": [
       "<Figure size 640x480 with 1 Axes>"
      ]
     },
     "metadata": {},
     "output_type": "display_data"
    },
    {
     "name": "stderr",
     "output_type": "stream",
     "text": [
      "2024-06-17 13:58:30,247 - 3756 - __init__.py-__init__:518 - WARNING: Overriding of current TracerProvider is not allowed\n"
     ]
    },
    {
     "name": "stdout",
     "output_type": "stream",
     "text": [
      "\n",
      "\n",
      "\u001b[1m> Entering new CrewAgentExecutor chain...\u001b[0m\n"
     ]
    },
    {
     "name": "stderr",
     "output_type": "stream",
     "text": [
      "2024-06-17 13:58:34,242 - 3756 - __init__.py-__init__:518 - WARNING: Overriding of current TracerProvider is not allowed\n"
     ]
    },
    {
     "name": "stdout",
     "output_type": "stream",
     "text": [
      "\u001b[32;1m\u001b[1;3mConsidering my current coordinates (6,7), my destination coordinates (10,8), and the direction from which I came, I need to move closer to my destination without hitting a wall. My south and north are blocked, but paths are available to the east and west. Since the x-coordinate of my destination is greater than my current x-coordinate, moving east will bring me closer to my destination.\n",
      "\n",
      "Final Answer: East\u001b[0m\n",
      "\n",
      "\u001b[1m> Finished chain.\u001b[0m\n",
      "\n",
      "\n",
      "\u001b[1m> Entering new CrewAgentExecutor chain...\u001b[0m\n",
      "\u001b[32;1m\u001b[1;3mConsidering my current position and the destination, I need to move towards the west. There is a path available in that direction and it will bring me closer to my goal.\n",
      "\n",
      "Final Answer: West\u001b[0m\n",
      "\n",
      "\u001b[1m> Finished chain.\u001b[0m\n"
     ]
    },
    {
     "data": {
      "image/png": "[encoded data removed]",
      "text/plain": [
       "<Figure size 640x480 with 1 Axes>"
      ]
     },
     "metadata": {},
     "output_type": "display_data"
    }
   ],
   "source": [
    "# 2 turn\n",
    "for n in range(2):\n",
    "\n",
    "  step = [0 for i in range(num_agents)]\n",
    "\n",
    "  #각 에이전트들의 시야에 있는 자신과 다른 에이전트들\n",
    "  FOV_agents = []\n",
    "  for i in range(num_agents):\n",
    "    if np.any(env.observe()[0][i][0][2:7, 2:7]):\n",
    "      non_zero_elements = env.observe()[0][i][0][2:7, 2:7][env.observe()[0][i][0][2:7, 2:7] != 0].tolist()\n",
    "      non_zero_elements = [element - 1 for element in non_zero_elements]\n",
    "      non_zero_elements.append(i)\n",
    "      FOV_agents.append(non_zero_elements)\n",
    "\n",
    "  #알고리즘을 이용해 연결된 집합 찾기\n",
    "  connected_set = merge_sets(FOV_agents)\n",
    "\n",
    "  #연결이 있는 모든 에이전트들\n",
    "  deadlocked_agents = [item for sublist in connected_set for item in sublist]\n",
    "\n",
    "  for i in range(num_agents):\n",
    "\n",
    "    #교착상태에 빠지지 않은 에이전트는 독립적으로 navigate\n",
    "    if i not in deadlocked_agents:\n",
    "      \n",
    "      a_obs = env.observe()[0][i][1]\n",
    "      x = env.observe()[1][i][1]\n",
    "      y = map_width-env.observe()[1][i][0]\n",
    "      x_finish = toy[2][i][1]\n",
    "      y_finish = map_width-toy[2][i][0]\n",
    "\n",
    "      if a_obs[4][3] == 0:\n",
    "        west = \"\"\"To your west lies a path.\"\"\"\n",
    "      else:\n",
    "        west = \"\"\"Your west is blocked by a wall.\"\"\"\n",
    "\n",
    "      if a_obs[4][5] == 0:\n",
    "        east = \"\"\"To your east lies a path.\"\"\"\n",
    "      else:\n",
    "        east = \"\"\"Your east is blocked by a wall.\"\"\"\n",
    "\n",
    "      if a_obs[5][4] == 0:\n",
    "        south = \"\"\"To your south lies a path.\"\"\"\n",
    "      else:\n",
    "        south = \"\"\"Your south is blocked by a wall.\"\"\"\n",
    "\n",
    "      if a_obs[3][4] == 0:\n",
    "        north = \"\"\"To your north lies a path.\"\"\"\n",
    "      else:\n",
    "        north = \"\"\"Your north is blocked by a wall.\"\"\"\n",
    "\n",
    "      if len(action_list[i]) == 0:\n",
    "        last_action = \"\"\"\"\"\"\n",
    "      elif action_list[i][-1] in ['West', 'West.']:\n",
    "        last_action = f\"\"\"You came from east.\"\"\"\n",
    "      elif action_list[i][-1] in ['East', 'East.']:\n",
    "        last_action = f\"\"\"You came from west.\"\"\"\n",
    "      elif action_list[i][-1] in ['South', 'South.']:\n",
    "        last_action = f\"\"\"You came from north.\"\"\"\n",
    "      elif action_list[i][-1] in ['North', 'North.']:\n",
    "        last_action = f\"\"\"You came from south.\"\"\"\n",
    "      elif action_list[i][-1] in ['Stay', 'Stay.']:\n",
    "        last_action = f\"\"\"You paused once for another agent or you reached your goal.\"\"\"\n",
    "      else:\n",
    "        last_action = \"\"\"\"\"\"\n",
    "\n",
    "      navigation = tasks.path_finding(agents_set[i], x, y, x_finish, y_finish, east, west, north, south, last_action)\n",
    "\n",
    "      crew = Crew(\n",
    "        agents=[agents_set[i]],\n",
    "        tasks=[navigation],\n",
    "        verbose=0,\n",
    "      )\n",
    "\n",
    "      result = crew.kickoff()\n",
    "\n",
    "      action_list[i].append(result)\n",
    "    \n",
    "      step[i] = directiondict[result]\n",
    "\n",
    "  \n",
    "  #여기에 교착상태에 빠진 에이전트들을 계획.\n",
    "\n",
    "\n",
    "\n",
    "\n",
    "  env.step(step)\n",
    "  env.render()"
   ]
  },
  {
   "cell_type": "markdown",
   "metadata": {},
   "source": [
    "### 교착상태 실험(잘 되면 위 코드로 넣기)"
   ]
  },
  {
   "cell_type": "code",
   "execution_count": 18,
   "metadata": {},
   "outputs": [
    {
     "name": "stdout",
     "output_type": "stream",
     "text": [
      "[[0, 1]]\n"
     ]
    }
   ],
   "source": [
    "FOV_agents = []\n",
    "for i in range(num_agents):\n",
    "  if np.any(env.observe()[0][i][0][2:7, 2:7]):\n",
    "    non_zero_elements = env.observe()[0][i][0][2:7, 2:7][env.observe()[0][i][0][2:7, 2:7] != 0].tolist()\n",
    "    non_zero_elements = [element - 1 for element in non_zero_elements]\n",
    "    non_zero_elements.append(i)\n",
    "    FOV_agents.append(non_zero_elements)\n",
    "\n",
    "connected_set = merge_sets(FOV_agents)\n",
    "deadlocked_agents = [item for sublist in connected_set for item in sublist]\n",
    "print(connected_set)"
   ]
  },
  {
   "cell_type": "code",
   "execution_count": 65,
   "metadata": {},
   "outputs": [
    {
     "name": "stderr",
     "output_type": "stream",
     "text": [
      "2024-06-14 16:14:15,260 - 17124 - __init__.py-__init__:518 - WARNING: Overriding of current TracerProvider is not allowed\n"
     ]
    },
    {
     "name": "stdout",
     "output_type": "stream",
     "text": [
      "\n",
      "\n",
      "\u001b[1m> Entering new CrewAgentExecutor chain...\u001b[0m\n"
     ]
    },
    {
     "name": "stderr",
     "output_type": "stream",
     "text": [
      "2024-06-14 16:14:19,844 - 17124 - __init__.py-__init__:518 - WARNING: Overriding of current TracerProvider is not allowed\n"
     ]
    },
    {
     "name": "stdout",
     "output_type": "stream",
     "text": [
      "\u001b[32;1m\u001b[1;3mGiven my current position and understanding of the surroundings, it is clear that moving in the direction of the destination is crucial. Given that my current coordinates are (1,7) and I need to get to (10,8), it is important to move in a direction that increases the x coordinate as the y coordinate is almost the same. Considering that east is the direction that increases the x coordinate and there is a path in that direction, it is the logical choice to make.\n",
      "\n",
      "Final Answer: East\u001b[0m\n",
      "\n",
      "\u001b[1m> Finished chain.\u001b[0m\n",
      "\n",
      "\n",
      "\u001b[1m> Entering new CrewAgentExecutor chain...\u001b[0m\n",
      "\u001b[32;1m\u001b[1;3mSince my current coordinates (2,7) are the same as my destination coordinates (2,7), it means I have already reached my destination. Therefore, there is no need for me to move in any direction.\n",
      "Final Answer: Stay.\u001b[0m\n",
      "\n",
      "\u001b[1m> Finished chain.\u001b[0m\n"
     ]
    }
   ],
   "source": [
    "# connected_set의 첫 번째 set에 대해 해결해보기 [0, 1]\n",
    "\n",
    "results = []\n",
    "\n",
    "for i in connected_set[0]: # 여기서 i는 agent의 번호들\n",
    "    \n",
    "    #각각의 에이전트에 대해 원래 계획된 경로를 계산\n",
    "\n",
    "    a_obs = env.observe()[0][i][1]\n",
    "    x = env.observe()[1][i][1]\n",
    "    y = map_width-env.observe()[1][i][0]\n",
    "    x_finish = toy[2][i][1]\n",
    "    y_finish = map_width-toy[2][i][0]\n",
    "\n",
    "    if a_obs[4][3] == 0:\n",
    "        west = \"\"\"To your west lies a path.\"\"\"\n",
    "    else:\n",
    "        west = \"\"\"Your west is blocked by a wall.\"\"\"\n",
    "\n",
    "    if a_obs[4][5] == 0:\n",
    "        east = \"\"\"To your east lies a path.\"\"\"\n",
    "    else:\n",
    "        east = \"\"\"Your east is blocked by a wall.\"\"\"\n",
    "\n",
    "    if a_obs[5][4] == 0:\n",
    "        south = \"\"\"To your south lies a path.\"\"\"\n",
    "    else:\n",
    "        south = \"\"\"Your south is blocked by a wall.\"\"\"\n",
    "\n",
    "    if a_obs[3][4] == 0:\n",
    "        north = \"\"\"To your north lies a path.\"\"\"\n",
    "    else:\n",
    "        north = \"\"\"Your north is blocked by a wall.\"\"\"\n",
    "\n",
    "    if len(action_list[i]) == 0:\n",
    "        last_action = \"\"\"\"\"\"\n",
    "    elif action_list[i][-1] in ['West', 'West.']:\n",
    "        last_action = f\"\"\"You came from east.\"\"\"\n",
    "    elif action_list[i][-1] in ['East', 'East.']:\n",
    "        last_action = f\"\"\"You came from west.\"\"\"\n",
    "    elif action_list[i][-1] in ['South', 'South.']:\n",
    "        last_action = f\"\"\"You came from north.\"\"\"\n",
    "    elif action_list[i][-1] in ['North', 'North.']:\n",
    "        last_action = f\"\"\"You came from south.\"\"\"\n",
    "    elif action_list[i][-1] in ['Stay', 'Stay.']:\n",
    "        last_action = f\"\"\"You paused once for another agent or you reached your goal.\"\"\"\n",
    "    else:\n",
    "        last_action = \"\"\"\"\"\"\n",
    "\n",
    "    navigation = tasks.path_finding(agents_set[i], x, y, x_finish, y_finish, east, west, north, south, last_action)\n",
    "\n",
    "    crew = Crew(\n",
    "        agents=[agents_set[i]],\n",
    "        tasks=[navigation],\n",
    "        verbose=0,\n",
    "    )\n",
    "\n",
    "    result = crew.kickoff()\n",
    "\n",
    "    results.append(result)\n",
    "\n",
    "\n",
    "# 각각의 에이전트들의 원래 계획된 경로를 기반으로 충돌이 발생한다면 양보 프로세스로 넘어가게 함 (이 충돌 감지 부분을 gpt로 할지, 혹은 환경으로 할지)\n",
    "\n",
    "# 충돌 감지 코드\n",
    "planned_step = [0 for _ in range(num_agents)]\n",
    "for idx, agent_idx in enumerate(connected_set[0]):\n",
    "    planned_step[agent_idx] = directiondict[results[idx]]\n",
    "    if -0.5 in env.step(planned_step)[1]:\n",
    "        collision = True\n",
    "    else:\n",
    "        coliision = False\n",
    "\n",
    "# 충돌하지 않는다면 원래 계획된 경로대로 가게 하고, action list에도 추가한다\n",
    "if collision == False:\n",
    "    for idx, agent_idx in enumerate(connected_set[0]):\n",
    "        action_list[i].append(results[agent_idx])\n",
    "        step[agent_idx] = directiondict[results[idx]]\n",
    "# 충돌한다면 가장 큰 넘버의 에이전트가 우선권을 가지고, 나머지는 그를 피해가야 함 (이 부분을 좀더 정교화할 필요가 있음, 특히 3명 이상의 에이전트에 대한 경우. 일단 기본적으로는 얽힌 모든 에이전트가 가장 번호가 높은 에이전트에게서 도망가게.)\n",
    "# 특히, 먼저 도착한 에이전트는 장애물이 되어 그 멈춘 에이전트를 발견한 다른 에이전트의 heuristic map이 업데이트되어야 함 (멈춘 에이전트로 인해 예상치 못한 deadend가 생김)\n",
    "else:\n",
    "    # 먼저 prior agent는 원래대로 이동하게 함\n",
    "    prior_agent_number = max(connected_set[0])\n",
    "    prior_agent_idx = connected_set[0].index(prior_agent_number)\n",
    "    action_list[prior_agent_number].append(results[prior_agent_idx])\n",
    "    step[prior_agent_idx] = directiondict[results[prior_agent_idx]]\n",
    "    for i in connected_set[0]:\n",
    "        if i != prior_agent_number:\n",
    "            a_obs = env.observe()[0][i][1]\n",
    "            x = env.observe()[1][i][1]\n",
    "            y = map_width-env.observe()[1][i][0]\n",
    "            x_finish = toy[2][i][1]\n",
    "            y_finish = map_width-toy[2][i][0]\n",
    "\n",
    "            if a_obs[4][3] == 0:\n",
    "                west = \"\"\"To your west lies a path.\"\"\"\n",
    "            else:\n",
    "                west = \"\"\"Your west is blocked by a wall.\"\"\"\n",
    "\n",
    "            if a_obs[4][5] == 0:\n",
    "                east = \"\"\"To your east lies a path.\"\"\"\n",
    "            else:\n",
    "                east = \"\"\"Your east is blocked by a wall.\"\"\"\n",
    "\n",
    "            if a_obs[5][4] == 0:\n",
    "                south = \"\"\"To your south lies a path.\"\"\"\n",
    "            else:\n",
    "                south = \"\"\"Your south is blocked by a wall.\"\"\"\n",
    "\n",
    "            if a_obs[3][4] == 0:\n",
    "                north = \"\"\"To your north lies a path.\"\"\"\n",
    "            else:\n",
    "                north = \"\"\"Your north is blocked by a wall.\"\"\"\n",
    "\n",
    "            give_way = tasks.give_way(agents_set[i], east, west, north, south)\n",
    "\n",
    "            crew = Crew(\n",
    "                agents=[agents_set[i]],\n",
    "                tasks=[give_way],\n",
    "                verbose=0,\n",
    "            )\n",
    "\n",
    "            result = crew.kickoff()\n",
    "\n",
    "            action_list[i] = []\n",
    "    \n",
    "            step[i] = directiondict[result]\n",
    "            \n",
    "\n",
    "    \n"
   ]
  },
  {
   "cell_type": "code",
   "execution_count": 64,
   "metadata": {},
   "outputs": [
    {
     "data": {
      "image/png": "[encoded data removed]",
      "text/plain": [
       "<Figure size 640x480 with 1 Axes>"
      ]
     },
     "metadata": {},
     "output_type": "display_data"
    }
   ],
   "source": [
    "env.step(step)\n",
    "env.render()"
   ]
  },
  {
   "cell_type": "code",
   "execution_count": 20,
   "metadata": {},
   "outputs": [
    {
     "data": {
      "text/plain": [
       "['East', 'West']"
      ]
     },
     "execution_count": 20,
     "metadata": {},
     "output_type": "execute_result"
    }
   ],
   "source": [
    "results"
   ]
  },
  {
   "cell_type": "code",
   "execution_count": 21,
   "metadata": {},
   "outputs": [],
   "source": [
    "planned_step = [0 for _ in range(num_agents)]\n",
    "for idx, agent_idx in enumerate(connected_set[0]):\n",
    "    planned_step[agent_idx] = directiondict[results[idx]]"
   ]
  },
  {
   "cell_type": "code",
   "execution_count": 22,
   "metadata": {},
   "outputs": [
    {
     "data": {
      "text/plain": [
       "[4, 3]"
      ]
     },
     "execution_count": 22,
     "metadata": {},
     "output_type": "execute_result"
    }
   ],
   "source": [
    "planned_step"
   ]
  },
  {
   "cell_type": "code",
   "execution_count": null,
   "metadata": {},
   "outputs": [],
   "source": []
  }
 ],
 "metadata": {
  "kernelspec": {
   "display_name": "Python 3 (ipykernel)",
   "language": "python",
   "name": "python3"
  },
  "language_info": {
   "codemirror_mode": {
    "name": "ipython",
    "version": 3
   },
   "file_extension": ".py",
   "mimetype": "text/x-python",
   "name": "python",
   "nbconvert_exporter": "python",
   "pygments_lexer": "ipython3",
   "version": "3.10.14"
  }
 },
 "nbformat": 4,
 "nbformat_minor": 4
}
