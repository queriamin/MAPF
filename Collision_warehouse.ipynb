{
 "cells": [
  {
   "cell_type": "markdown",
   "metadata": {},
   "source": [
    "## warehouse collision 해결하고 warehouse에 코드로 넣기"
   ]
  },
  {
   "cell_type": "code",
   "execution_count": 3,
   "metadata": {},
   "outputs": [],
   "source": [
    "import os\n",
    "import numpy as np\n",
    "from crewai import Agent, Task, Crew\n",
    "from environment import Environment\n",
    "from openai import OpenAI\n",
    "import configs\n",
    "import pickle\n",
    "\n",
    "os.environ[\"OPENAI_API_KEY\"] = \"\"\n",
    "client = OpenAI()"
   ]
  },
  {
   "cell_type": "code",
   "execution_count": 4,
   "metadata": {},
   "outputs": [],
   "source": [
    "#negotiator를 구성하기 위한 union find 알고리즘\n",
    "\n",
    "def find(parent, i):\n",
    "    if parent[i] == i:\n",
    "        return i\n",
    "    else:\n",
    "        return find(parent, parent[i])\n",
    "\n",
    "def union(parent, rank, x, y):\n",
    "    xroot = find(parent, x)\n",
    "    yroot = find(parent, y)\n",
    "\n",
    "    if xroot != yroot:\n",
    "        if rank[xroot] < rank[yroot]:\n",
    "            parent[xroot] = yroot\n",
    "        elif rank[xroot] > rank[yroot]:\n",
    "            parent[yroot] = xroot\n",
    "        else:\n",
    "            parent[yroot] = xroot\n",
    "            rank[xroot] += 1\n",
    "\n",
    "def merge_sets(lists):\n",
    "    element_to_index = {}\n",
    "    for i, subset in enumerate(lists):\n",
    "        for element in subset:\n",
    "            element_to_index[element] = i\n",
    "\n",
    "    parent = [i for i in range(len(lists))]\n",
    "    rank = [0] * len(lists)\n",
    "\n",
    "    for subset in lists:\n",
    "        first_element = subset[0]\n",
    "        for element in subset[1:]:\n",
    "            union(parent, rank, find(parent, element_to_index[first_element]), find(parent, element_to_index[element]))\n",
    "\n",
    "    new_sets = {}\n",
    "    for element in element_to_index:\n",
    "        root = find(parent, element_to_index[element])\n",
    "        if root not in new_sets:\n",
    "            new_sets[root] = set()\n",
    "        new_sets[root].add(element)\n",
    "\n",
    "    return [list(s) for s in new_sets.values()]"
   ]
  },
  {
   "cell_type": "code",
   "execution_count": 5,
   "metadata": {},
   "outputs": [
    {
     "data": {
      "image/png": "[encoded data removed]",
      "text/plain": [
       "<Figure size 640x480 with 1 Axes>"
      ]
     },
     "metadata": {},
     "output_type": "display_data"
    }
   ],
   "source": [
    "directiondict = {\n",
    "    'Stay': 0, 'North': 1, 'South': 2, 'West': 3, 'East': 4, 'Stay.': 0, 'North.': 1, 'South.': 2, 'West.': 3, 'East.': 4 \n",
    "}\n",
    "\n",
    "# Toy example 만들기(환경, 처음 위치, 목적지)\n",
    "toy = (np.array([[1, 1, 0, 1, 1, 1, 1, 0], [1, 1, 0, 1, 1, 1, 1, 0], [0, 0, 0, 0, 0, 0, 0, 0], [1, 1, 0, 1, 1, 1, 1, 0], [1, 1, 0, 1, 1, 1, 1, 0]]), np.array([[2, 2], [2, 7]]), np.array([[1, 7], [2, 0]]))\n",
    "num_agents = len(toy[1])\n",
    "map_width = len(toy[0][0]) - 1\n",
    "\n",
    "env = Environment()\n",
    "env.load(toy[0], toy[1], toy[2])\n",
    "env.render()"
   ]
  },
  {
   "cell_type": "code",
   "execution_count": 6,
   "metadata": {},
   "outputs": [],
   "source": [
    "class PathFindingAgents:\n",
    "  def path_finder(self, agent_number):\n",
    "    return Agent(\n",
    "      role='Path finder',\n",
    "      goal='Start at the start point and reach the end point without crashing into a wall.',\n",
    "      backstory=f\"\"\"You are a veteran adventurer with a great sense of direction.\n",
    "      You understand which direction you need to move to get from where you are to where you want to go.\n",
    "      Your agent number is {agent_number}.\n",
    "      \"\"\",\n",
    "      verbose=True\n",
    "    )\n",
    "    \n",
    "  def negotiator(self):\n",
    "    return Agent(\n",
    "      role='Negotiator',\n",
    "      goal=\"\"\"Determine whether the deadlocked agents would collide with each other if they took their original planned moves, and if so, stop all but the agent with the largest number.\"\"\",\n",
    "      backstory=\"\"\"You're a veteran overseer, and you've been called in to resolve the deadlock, as each agent is in the other's line of sight.\n",
    "      \"\"\",\n",
    "      verbose=True,\n",
    "    )\n",
    "\t\n",
    "class PathFindingTasks():\n",
    "  def path_finding(self, agent, x, y, x_finish, y_finish, east, west, north, south, last_action):\n",
    "    return Task(\n",
    "      description=(\n",
    "        f\"\"\"\n",
    "        Your current coordinates are ({x},{y}) and your destination is ({x_finish},{y_finish}).\n",
    "        East and west in the coordinates correspond to the x axis.\n",
    "        South and north in the coordinates correspond to the y axis.\n",
    "        You can only move east, west, south and north or stay.\n",
    "        So, your answer will be {{East}}, {{West}}, {{South}}, {{North}}, or {{Stay}}.\n",
    "        You can only make one move at a time.\n",
    "        {east}\n",
    "        {west}\n",
    "        {south}\n",
    "        {north}\n",
    "        Which direction do you move next?\n",
    "        {last_action}\n",
    "        Answer in one word only: {{DIRECTION or ACTION}}\n",
    "        \"\"\"\n",
    "      ),\n",
    "      expected_output='Direction or action',\n",
    "      agent=agent\n",
    "    )\n",
    "    \n",
    "  def negotiate(self, agent):\n",
    "    return Task(\n",
    "      description=(\n",
    "        f\"\"\"\n",
    "        Determine whether the deadlocked agents would collide with each other if they took their original planned moves, and if so, stop all but the agent with the largest number.\n",
    "        The planned moves of each agent represent the previous outcomes.\n",
    "        \"\"\"\n",
    "      ),\n",
    "      expected_output='Direction of the agents',\n",
    "      agent=agent\n",
    "    )\n",
    "\n",
    "agents = PathFindingAgents()\n",
    "tasks = PathFindingTasks()\n",
    "\n",
    "agents_set = [agents.path_finder(i) for i in range(num_agents)]\n",
    "negotiator = agents.negotiator()"
   ]
  },
  {
   "cell_type": "code",
   "execution_count": 7,
   "metadata": {},
   "outputs": [],
   "source": [
    "#에이전트들의 지난번 액션들\n",
    "action_list = [[] for _ in range(num_agents)]"
   ]
  },
  {
   "cell_type": "code",
   "execution_count": 8,
   "metadata": {},
   "outputs": [
    {
     "name": "stdout",
     "output_type": "stream",
     "text": [
      "\n",
      "\n",
      "\u001b[1m> Entering new CrewAgentExecutor chain...\u001b[0m\n"
     ]
    },
    {
     "name": "stderr",
     "output_type": "stream",
     "text": [
      "2024-06-12 12:16:32,137 - 23420 - __init__.py-__init__:518 - WARNING: Overriding of current TracerProvider is not allowed\n"
     ]
    },
    {
     "name": "stdout",
     "output_type": "stream",
     "text": [
      "\u001b[32;1m\u001b[1;3mConsidering my current location and the destination, I need to move in the direction that gets me closer to the destination. As the destination is located more to the east and slightly to the north from my current position, I should move eastwards.\n",
      "\n",
      "Final Answer: East\u001b[0m\n",
      "\n",
      "\u001b[1m> Finished chain.\u001b[0m\n",
      "\n",
      "\n",
      "\u001b[1m> Entering new CrewAgentExecutor chain...\u001b[0m\n",
      "\u001b[32;1m\u001b[1;3mConsidering my current location and the destination, the most feasible direction to move would be west as it will bring me closer to the end point on the x-axis.\n",
      "\n",
      "Final Answer: West\u001b[0m\n",
      "\n",
      "\u001b[1m> Finished chain.\u001b[0m\n"
     ]
    },
    {
     "data": {
      "image/png": "[encoded data removed]",
      "text/plain": [
       "<Figure size 640x480 with 1 Axes>"
      ]
     },
     "metadata": {},
     "output_type": "display_data"
    }
   ],
   "source": [
    "# 1 turn\n",
    "for n in range(1):\n",
    "\n",
    "  step = [0 for i in range(num_agents)]\n",
    "\n",
    "  #각 에이전트들의 시야에 있는 자신과 다른 에이전트들\n",
    "  FOV_agents = []\n",
    "  for i in range(num_agents):\n",
    "    if np.any(env.observe()[0][i][0][2:7, 2:7]):\n",
    "      non_zero_elements = env.observe()[0][i][0][2:7, 2:7][env.observe()[0][i][0][2:7, 2:7] != 0].tolist()\n",
    "      non_zero_elements = [element - 1 for element in non_zero_elements]\n",
    "      non_zero_elements.append(i)\n",
    "      FOV_agents.append(non_zero_elements)\n",
    "\n",
    "  #알고리즘을 이용해 연결된 집합 찾기\n",
    "  connected_set = merge_sets(FOV_agents)\n",
    "\n",
    "  #연결이 있는 모든 에이전트들\n",
    "  deadlocked_agents = [item for sublist in connected_set for item in sublist]\n",
    "\n",
    "  for i in range(num_agents):\n",
    "\n",
    "    #교착상태에 빠지지 않은 에이전트는 독립적으로 navigate\n",
    "    if i not in deadlocked_agents:\n",
    "      \n",
    "      a_obs = env.observe()[0][i][1]\n",
    "      x = env.observe()[1][i][1]\n",
    "      y = map_width-env.observe()[1][i][0]\n",
    "      x_finish = toy[2][i][1]\n",
    "      y_finish = map_width-toy[2][i][0]\n",
    "\n",
    "      if a_obs[4][3] == 0:\n",
    "        west = \"\"\"To your west lies a path.\"\"\"\n",
    "      else:\n",
    "        west = \"\"\"Your west is blocked by a wall.\"\"\"\n",
    "\n",
    "      if a_obs[4][5] == 0:\n",
    "        east = \"\"\"To your east lies a path.\"\"\"\n",
    "      else:\n",
    "        east = \"\"\"Your east is blocked by a wall.\"\"\"\n",
    "\n",
    "      if a_obs[5][4] == 0:\n",
    "        south = \"\"\"To your south lies a path.\"\"\"\n",
    "      else:\n",
    "        south = \"\"\"Your south is blocked by a wall.\"\"\"\n",
    "\n",
    "      if a_obs[3][4] == 0:\n",
    "        north = \"\"\"To your north lies a path.\"\"\"\n",
    "      else:\n",
    "        north = \"\"\"Your north is blocked by a wall.\"\"\"\n",
    "\n",
    "      if len(action_list[i]) == 0:\n",
    "        last_action = \"\"\"\"\"\"\n",
    "      elif action_list[i][-1] in ['West', 'West.']:\n",
    "        last_action = f\"\"\"You came from east.\"\"\"\n",
    "      elif action_list[i][-1] in ['East', 'East.']:\n",
    "        last_action = f\"\"\"You came from west.\"\"\"\n",
    "      elif action_list[i][-1] in ['South', 'South.']:\n",
    "        last_action = f\"\"\"You came from north.\"\"\"\n",
    "      elif action_list[i][-1] in ['North', 'North.']:\n",
    "        last_action = f\"\"\"You came from south.\"\"\"\n",
    "      elif action_list[i][-1] in ['Stay', 'Stay.']:\n",
    "        last_action = f\"\"\"You paused once for another agent or you reached your goal.\"\"\"\n",
    "      else:\n",
    "        last_action = \"\"\"\"\"\"\n",
    "\n",
    "      navigation = tasks.path_finding(agents_set[i], x, y, x_finish, y_finish, east, west, north, south, last_action)\n",
    "\n",
    "      crew = Crew(\n",
    "        agents=[agents_set[i]],\n",
    "        tasks=[navigation],\n",
    "        verbose=0,\n",
    "      )\n",
    "\n",
    "      result = crew.kickoff()\n",
    "\n",
    "      action_list[i].append(result)\n",
    "    \n",
    "      step[i] = directiondict[result]\n",
    "\n",
    "  \n",
    "  #여기에 교착상태에 빠진 에이전트들을 계획.\n",
    "\n",
    "\n",
    "\n",
    "\n",
    "  env.step(step)\n",
    "  env.render()"
   ]
  },
  {
   "cell_type": "markdown",
   "metadata": {},
   "source": [
    "### 교착상태 실험(잘 되면 위 코드로 넣기)"
   ]
  },
  {
   "cell_type": "code",
   "execution_count": 76,
   "metadata": {},
   "outputs": [],
   "source": [
    "FOV_agents = []\n",
    "for i in range(num_agents):\n",
    "  if np.any(env.observe()[0][i][0][2:7, 2:7]):\n",
    "    non_zero_elements = env.observe()[0][i][0][2:7, 2:7][env.observe()[0][i][0][2:7, 2:7] != 0].tolist()\n",
    "    non_zero_elements = [element - 1 for element in non_zero_elements]\n",
    "    non_zero_elements.append(i)\n",
    "    FOV_agents.append(non_zero_elements)\n",
    "\n",
    "connected_set = merge_sets(FOV_agents)\n",
    "deadlocked_agents = [item for sublist in connected_set for item in sublist]"
   ]
  },
  {
   "cell_type": "code",
   "execution_count": 77,
   "metadata": {},
   "outputs": [
    {
     "name": "stderr",
     "output_type": "stream",
     "text": [
      "2024-06-12 11:52:56,250 - 18848 - __init__.py-__init__:518 - WARNING: Overriding of current TracerProvider is not allowed\n"
     ]
    },
    {
     "name": "stdout",
     "output_type": "stream",
     "text": [
      "\n",
      "\n",
      "\u001b[1m> Entering new CrewAgentExecutor chain...\u001b[0m\n"
     ]
    },
    {
     "name": "stderr",
     "output_type": "stream",
     "text": [
      "2024-06-12 11:52:59,905 - 18848 - __init__.py-__init__:518 - WARNING: Overriding of current TracerProvider is not allowed\n"
     ]
    },
    {
     "name": "stdout",
     "output_type": "stream",
     "text": [
      "\u001b[32;1m\u001b[1;3mConsidering my current coordinates (4,5) and my destination (7,6), I need to move towards the east to increase my x-coordinate. Since I came from the west and the paths to the east and west are clear, while the north and south are blocked, my best option would be to proceed towards the east.\n",
      "\n",
      "Final Answer: East\u001b[0m\n",
      "\n",
      "\u001b[1m> Finished chain.\u001b[0m\n",
      "\n",
      "\n",
      "\u001b[1m> Entering new CrewAgentExecutor chain...\u001b[0m\n",
      "\u001b[32;1m\u001b[1;3mBased on my current coordinates, my destination is west of my current position. Since I can't move north or south because of the walls and moving east would take me further away from my destination, my best option is to move west.\n",
      "\n",
      "Final Answer: West\u001b[0m\n",
      "\n",
      "\u001b[1m> Finished chain.\u001b[0m\n"
     ]
    }
   ],
   "source": [
    "texts = []\n",
    "results = []\n",
    "\n",
    "for i in connected_set[0]: # 여기서 i는 agent의 고유번호\n",
    "    \n",
    "    a_obs = env.observe()[0][i][1]\n",
    "    x = env.observe()[1][i][1]\n",
    "    y = map_width-env.observe()[1][i][0]\n",
    "    x_finish = toy[2][i][1]\n",
    "    y_finish = map_width-toy[2][i][0]\n",
    "\n",
    "    if a_obs[4][3] == 0:\n",
    "        west = \"\"\"To your west lies a path.\"\"\"\n",
    "    else:\n",
    "        west = \"\"\"Your west is blocked by a wall.\"\"\"\n",
    "\n",
    "    if a_obs[4][5] == 0:\n",
    "        east = \"\"\"To your east lies a path.\"\"\"\n",
    "    else:\n",
    "        east = \"\"\"Your east is blocked by a wall.\"\"\"\n",
    "\n",
    "    if a_obs[5][4] == 0:\n",
    "        south = \"\"\"To your south lies a path.\"\"\"\n",
    "    else:\n",
    "        south = \"\"\"Your south is blocked by a wall.\"\"\"\n",
    "\n",
    "    if a_obs[3][4] == 0:\n",
    "        north = \"\"\"To your north lies a path.\"\"\"\n",
    "    else:\n",
    "        north = \"\"\"Your north is blocked by a wall.\"\"\"\n",
    "\n",
    "    if len(action_list[i]) == 0:\n",
    "        last_action = \"\"\"\"\"\"\n",
    "    elif action_list[i][-1] in ['West', 'West.']:\n",
    "        last_action = f\"\"\"You came from east.\"\"\"\n",
    "    elif action_list[i][-1] in ['East', 'East.']:\n",
    "        last_action = f\"\"\"You came from west.\"\"\"\n",
    "    elif action_list[i][-1] in ['South', 'South.']:\n",
    "        last_action = f\"\"\"You came from north.\"\"\"\n",
    "    elif action_list[i][-1] in ['North', 'North.']:\n",
    "        last_action = f\"\"\"You came from south.\"\"\"\n",
    "    elif action_list[i][-1] in ['Stay', 'Stay.']:\n",
    "        last_action = f\"\"\"You paused once for another agent or you reached your goal.\"\"\"\n",
    "    else:\n",
    "        last_action = \"\"\"\"\"\"\n",
    "\n",
    "    navigation = tasks.path_finding(agents_set[i], x, y, x_finish, y_finish, east, west, north, south, last_action)\n",
    "\n",
    "    crew = Crew(\n",
    "        agents=[agents_set[i]],\n",
    "        tasks=[navigation],\n",
    "        verbose=0,\n",
    "    )\n",
    "\n",
    "    result = crew.kickoff()\n",
    "\n",
    "    results.append(result)\n",
    "\n",
    "    if result.lower().strip('.') == 'stay':\n",
    "        texts.append(f\"\"\"Agent {i} plans to stay at coordinate ({x}, {y}).\"\"\")\n",
    "    else:\n",
    "        texts.append(f\"\"\"Agent {i} plans to move {result.lower().strip('.')} from coordinate ({x}, {y}).\"\"\")\n",
    "\n",
    "response = client.chat.completions.create(\n",
    "  model=\"gpt-4\",\n",
    "  messages=[\n",
    "    {\"role\": \"system\", \"content\": \"You are the overseer of the pathfinders' movements. You have a great sense of direction.\"},\n",
    "    {\"role\": \"user\", \"content\": f\"\"\"\n",
    "     {' '.join(texts)}\n",
    "     Agents will collide if they swap locations or if their locations overlap.\n",
    "     Will they collide?\n",
    "     Your answer will be {{Yes}} or {{No}}.\n",
    "     \"\"\"},\n",
    "  ]\n",
    ")\n",
    "\n",
    "if response.choices[0].message.content == 'No':\n",
    "    for idx, pos in enumerate(connected_set[0]):\n",
    "        step[pos] = directiondict[results[idx]]\n",
    "else:\n",
    "    "
   ]
  },
  {
   "cell_type": "code",
   "execution_count": 82,
   "metadata": {},
   "outputs": [
    {
     "data": {
      "text/plain": [
       "[0, 1]"
      ]
     },
     "execution_count": 82,
     "metadata": {},
     "output_type": "execute_result"
    }
   ],
   "source": [
    "connected_set[0]"
   ]
  },
  {
   "cell_type": "code",
   "execution_count": 81,
   "metadata": {},
   "outputs": [
    {
     "data": {
      "text/plain": [
       "['East', 'West']"
      ]
     },
     "execution_count": 81,
     "metadata": {},
     "output_type": "execute_result"
    }
   ],
   "source": [
    "results"
   ]
  },
  {
   "cell_type": "code",
   "execution_count": 87,
   "metadata": {},
   "outputs": [],
   "source": [
    "for idx, pos in enumerate(connected_set[0]):\n",
    "        step[pos] = directiondict[results[idx]]"
   ]
  }
 ],
 "metadata": {
  "kernelspec": {
   "display_name": "Python 3 (ipykernel)",
   "language": "python",
   "name": "python3"
  },
  "language_info": {
   "codemirror_mode": {
    "name": "ipython",
    "version": 3
   },
   "file_extension": ".py",
   "mimetype": "text/x-python",
   "name": "python",
   "nbconvert_exporter": "python",
   "pygments_lexer": "ipython3",
   "version": "3.10.14"
  }
 },
 "nbformat": 4,
 "nbformat_minor": 4
}
